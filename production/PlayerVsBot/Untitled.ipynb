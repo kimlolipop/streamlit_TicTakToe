{
 "cells": [
  {
   "cell_type": "code",
   "execution_count": 8,
   "id": "a830515e-2f06-49d0-aac7-46ed4e8f67f9",
   "metadata": {},
   "outputs": [],
   "source": [
    "from tensorflow import keras \n",
    "from keras.models import load_model\n",
    "\n",
    "model = load_model(\"model_AIwihtRND_games4.h5\")"
   ]
  },
  {
   "cell_type": "code",
   "execution_count": 10,
   "id": "00841baa-e8ff-4993-bed2-edf2fc006403",
   "metadata": {},
   "outputs": [
    {
     "name": "stdout",
     "output_type": "stream",
     "text": [
      " Volume in drive D is Data\n",
      " Volume Serial Number is 76C8-4E88\n",
      "\n",
      " Directory of D:\\Git project\\tic-tac-toe\\streamlit_TicTakToe\\production\\PlayerVsBot\n",
      "\n",
      "14-Nov-21  12:57 AM    <DIR>          .\n",
      "14-Nov-21  12:48 AM    <DIR>          ..\n",
      "14-Nov-21  12:52 AM    <DIR>          .ipynb_checkpoints\n",
      "14-Nov-21  12:57 AM               322 model.py\n",
      "13-Nov-21  09:19 PM           439,984 model_AIwihtRND_games4.h5\n",
      "14-Nov-21  12:50 AM             2,041 p1vsbot.py\n",
      "14-Nov-21  12:57 AM             1,094 Untitled.ipynb\n",
      "13-Nov-21  10:18 PM                38 __init__.py\n",
      "14-Nov-21  12:48 AM    <DIR>          __pycache__\n",
      "               5 File(s)        443,479 bytes\n",
      "               4 Dir(s)  506,520,600,576 bytes free\n"
     ]
    }
   ],
   "source": [
    "!dir"
   ]
  },
  {
   "cell_type": "code",
   "execution_count": null,
   "id": "73d1b1fb-70e5-4d1e-b6b9-5d4f3f302fd5",
   "metadata": {},
   "outputs": [],
   "source": []
  }
 ],
 "metadata": {
  "kernelspec": {
   "display_name": "Python 3 (ipykernel)",
   "language": "python",
   "name": "python3"
  },
  "language_info": {
   "codemirror_mode": {
    "name": "ipython",
    "version": 3
   },
   "file_extension": ".py",
   "mimetype": "text/x-python",
   "name": "python",
   "nbconvert_exporter": "python",
   "pygments_lexer": "ipython3",
   "version": "3.7.11"
  }
 },
 "nbformat": 4,
 "nbformat_minor": 5
}
