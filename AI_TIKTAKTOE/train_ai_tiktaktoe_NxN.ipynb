{
 "cells": [
  {
   "cell_type": "markdown",
   "id": "fa3396c4-54d8-437f-a443-a975467508d2",
   "metadata": {},
   "source": [
    "## Game ENV"
   ]
  },
  {
   "cell_type": "code",
   "execution_count": 1,
   "id": "9baa67f2-dee1-462d-acea-8cf6b760c102",
   "metadata": {},
   "outputs": [],
   "source": [
    "import numpy as np\n",
    "import random\n",
    "from collections import Counter\n",
    "\n",
    "# X = '😀' #P1 X\n",
    "# O = '🤖' #P2 O\n",
    "# space = '🗯'\n",
    "\n",
    "_dim = 8\n",
    "_win_point = 5\n",
    "X = 1 #P1 X\n",
    "O = 2 #P2 O\n",
    "space = 0\n",
    "\n",
    "\n",
    "\n",
    "def initBoard():\n",
    "    \n",
    "    board = np.full((_dim, _dim), space, dtype=int) #space 10x10\n",
    "#     board = [\n",
    "#         [0, 0, 0],\n",
    "#         [0, 0, 0],\n",
    "#         [0, 0, 0]\n",
    "#     ]\n",
    "    return board"
   ]
  },
  {
   "cell_type": "code",
   "execution_count": 2,
   "id": "aa625545-0afa-4295-8d66-51c67b0d56a9",
   "metadata": {},
   "outputs": [],
   "source": [
    "def getMoves(board):\n",
    "    moves = []\n",
    "    for i in range(len(board)):\n",
    "        for j in range(len(board[i])):\n",
    "            if board[i][j] == space:\n",
    "                moves.append((i, j))\n",
    "    return moves"
   ]
  },
  {
   "cell_type": "code",
   "execution_count": 3,
   "id": "45d8d74c-8030-4665-9e59-37bf76a775ae",
   "metadata": {},
   "outputs": [],
   "source": [
    "## check\n",
    "board = initBoard()\n",
    "moves = getMoves(board)\n",
    "move = moves[random.randint(0, len(moves) - 1)]"
   ]
  },
  {
   "cell_type": "code",
   "execution_count": null,
   "id": "2f367b24-8e5a-4cc4-b475-4772f9f17a8f",
   "metadata": {},
   "outputs": [],
   "source": []
  },
  {
   "cell_type": "code",
   "execution_count": 4,
   "id": "78f54bce-0723-44e7-a3c0-5f4c86006515",
   "metadata": {},
   "outputs": [],
   "source": [
    "def checkWin(board):\n",
    "    # transposition to check rows, then columns\n",
    "    for newBoard in [board, np.transpose(board)]:\n",
    "        result = checkRows(newBoard)\n",
    "        if result:\n",
    "            return result\n",
    "        \n",
    "    # check Diagonals  \n",
    "    result = checkDiagonals(board)\n",
    "    if result:\n",
    "        return result\n",
    "    \n",
    "    # check draw\n",
    "    if (len(getMoves(board)) == 0):\n",
    "        # It's a draw\n",
    "        return 0\n",
    "    else:\n",
    "        # Still more moves to make\n",
    "        return -1\n"
   ]
  },
  {
   "cell_type": "code",
   "execution_count": 5,
   "id": "25a2c308-144d-4c71-ab09-1df7e8175e17",
   "metadata": {},
   "outputs": [],
   "source": [
    "## \n",
    "def checkRows(board):\n",
    "    for row in board:\n",
    "        for i in range(0, len(row)):\n",
    "            check_list = []\n",
    "            for j in range(0,_win_point):\n",
    "                if i <= (len(board)-_win_point):\n",
    "                    check_list.append(row[i+j])\n",
    "                # end if\n",
    "            # next\n",
    "            \n",
    "            count = Counter(check_list)\n",
    "            if count[O] == _win_point:\n",
    "                return O\n",
    "            if count[X] == _win_point:\n",
    "                return X\n",
    "\n",
    "    return None\n",
    "\n",
    "def checkDiagonals(board):\n",
    "    # right Diagonals \n",
    "    for idx, row in enumerate(board):\n",
    "        if idx <= (len(board)-_win_point):\n",
    "            \n",
    "            for i in range(len(row)):\n",
    "                check_list = []\n",
    "                for j in range(0,_win_point):\n",
    "                    if i <= (len(board)-_win_point):\n",
    "                        if j == 0:\n",
    "                            check_list.append(row[i+j])\n",
    "                        else:\n",
    "                            check_list.append(board[idx+j][i+j])\n",
    "                            \n",
    "                count = Counter(check_list)\n",
    "\n",
    "                if count[O] == _win_point:\n",
    "                    return O\n",
    "                if count[X] == _win_point:\n",
    "                    return X\n",
    "\n",
    "                \n",
    "    # Left Diagonals           \n",
    "    for idx, row in enumerate(board):\n",
    "        if idx <= (len(board)-_win_point):\n",
    "            \n",
    "            for i in range(len(row)):\n",
    "                check_list = []\n",
    "                for j in range(0,_win_point):\n",
    "                    if i >= (len(board)-_win_point-1):\n",
    "                        if j == 0:\n",
    "                            check_list.append(row[i+j])\n",
    "                        else:\n",
    "                            check_list.append(board[idx+j][i-j])\n",
    "                            \n",
    "#                 st.write(check_list)            \n",
    "                count = Counter(check_list)\n",
    "\n",
    "                if count[O] == _win_point:\n",
    "                    return O\n",
    "                if count[X] == _win_point:\n",
    "                    return X\n",
    "\n",
    "                \n",
    "                \n",
    "                \n",
    "    return None"
   ]
  },
  {
   "cell_type": "code",
   "execution_count": 6,
   "id": "5bf6638c-1015-4929-a147-babab01d7a44",
   "metadata": {},
   "outputs": [],
   "source": [
    "def printBoard(board):\n",
    "    for i in range(len(board)):\n",
    "        for j in range(len(board[i])):\n",
    "            mark = space\n",
    "            if board[i][j] == X:\n",
    "                mark = '😀'\n",
    "            elif board[i][j] == O:\n",
    "                mark = '🤖'\n",
    "            if (j == len(board[i]) - 1):\n",
    "                print(mark)\n",
    "            else:\n",
    "                print(str(mark) + \"|\", end='')\n",
    "        if (i < len(board) - 1):\n",
    "            print(\"-----\")\n",
    "            \n",
    "            \n",
    "            \n"
   ]
  },
  {
   "cell_type": "code",
   "execution_count": 7,
   "id": "3867e126-2ab8-44fd-be18-0969dba2126f",
   "metadata": {},
   "outputs": [],
   "source": [
    "# b = initBoard()\n",
    "# print(b)\n",
    "# print(getMoves(b))\n",
    "# print(checkWin(b))"
   ]
  },
  {
   "cell_type": "code",
   "execution_count": 8,
   "id": "58601b84-0ab1-4783-acce-71057232f2c0",
   "metadata": {},
   "outputs": [],
   "source": [
    "# b = initBoard()\n",
    "# # b[0][0] = X\n",
    "# # b[1][1] = X\n",
    "# # b[2][2] = X\n",
    "\n",
    "# # b[1][2] = O\n",
    "# # b[2][3] = O\n",
    "# # b[3][4] = O\n",
    "\n",
    "# # b[0][4] = X\n",
    "# # b[1][3] = X\n",
    "# # b[2][2] = X\n",
    "\n",
    "# # b[0][0] = X\n",
    "# # b[0][1] = X\n",
    "# # b[0][2] = X\n",
    "\n",
    "# # b[4][0] = X\n",
    "# # b[3][0] = X\n",
    "# # b[2][0] = X\n",
    "\n",
    "# b[3][2] = X\n",
    "# b[3][3] = X\n",
    "# b[3][4] = X\n",
    "\n",
    "\n",
    "\n",
    "# printBoard(b)\n",
    "# print(checkWin(b))\n",
    "# # OUTPUT"
   ]
  },
  {
   "cell_type": "code",
   "execution_count": null,
   "id": "b44e44b6-7861-45de-af84-646d356041c5",
   "metadata": {},
   "outputs": [],
   "source": []
  },
  {
   "cell_type": "code",
   "execution_count": null,
   "id": "bb82f7f4-3bce-4c0d-ae8a-18007fe701b6",
   "metadata": {},
   "outputs": [],
   "source": []
  },
  {
   "cell_type": "code",
   "execution_count": 7,
   "id": "5b0707ad-afd8-4f4f-9480-e42b73255bc6",
   "metadata": {},
   "outputs": [],
   "source": [
    "# 1 = X, 2 = O\n",
    "\n",
    "def simulateGame(p1=None, p2=None, rnd=0):\n",
    "    history = []\n",
    "    board = initBoard()\n",
    "    playerToMove = X\n",
    "    \n",
    "    while checkWin(board) == -1:\n",
    "        \n",
    "        # Chose a move (random or use a player model if provided)\n",
    "        move = None\n",
    "        if playerToMove == X and p1 != None:\n",
    "            move = bestMove(board, p1, playerToMove, rnd)\n",
    "        elif playerToMove == O and p2 != None:\n",
    "            move = bestMove(board, p2, playerToMove, rnd)\n",
    "        else:\n",
    "            moves = getMoves(board)\n",
    "            move = moves[random.randint(0, len(moves) - 1)]\n",
    "        \n",
    "        # Make the move\n",
    "        board[move[0]][move[1]] = playerToMove\n",
    "        \n",
    "        # Add the move to the history\n",
    "        history.append((playerToMove, move))\n",
    "        \n",
    "        # Switch the active player\n",
    "        playerToMove = X if playerToMove == O else O\n",
    "        \n",
    "    return history"
   ]
  },
  {
   "cell_type": "code",
   "execution_count": 11,
   "id": "a129589b-b58c-4a4f-a68c-9a83b6bad7d0",
   "metadata": {},
   "outputs": [
    {
     "name": "stdout",
     "output_type": "stream",
     "text": [
      "[(1, (6, 0)), (2, (6, 6)), (1, (1, 4)), (2, (4, 6)), (1, (6, 1)), (2, (2, 6)), (1, (7, 1)), (2, (7, 6)), (1, (4, 2)), (2, (3, 7)), (1, (5, 0)), (2, (5, 5)), (1, (7, 4)), (2, (5, 7)), (1, (5, 1)), (2, (1, 2)), (1, (5, 2)), (2, (5, 3)), (1, (1, 7)), (2, (3, 6)), (1, (1, 5)), (2, (0, 3)), (1, (2, 5)), (2, (7, 3)), (1, (4, 3)), (2, (0, 0)), (1, (0, 6)), (2, (7, 5)), (1, (2, 0)), (2, (6, 5)), (1, (1, 1)), (2, (7, 2)), (1, (3, 4))]\n"
     ]
    }
   ],
   "source": [
    "history = simulateGame()\n",
    "print(history)"
   ]
  },
  {
   "cell_type": "code",
   "execution_count": 8,
   "id": "b02e5734-1dfa-43d9-abfb-8fb55ace2e78",
   "metadata": {},
   "outputs": [],
   "source": [
    "def movesToBoard(moves):\n",
    "    board = initBoard()\n",
    "    for move in moves:\n",
    "        player = move[0]\n",
    "        coords = move[1]\n",
    "        board[coords[0]][coords[1]] = player\n",
    "    return board"
   ]
  },
  {
   "cell_type": "code",
   "execution_count": 9,
   "id": "faf39ec7-d17d-48ff-aaf4-2dd24118b2f2",
   "metadata": {},
   "outputs": [],
   "source": [
    "## check status\n",
    "def gameStats(games, player=X):\n",
    "    stats = {\"win\": 0, \"loss\": 0, \"draw\": 0}\n",
    "    for game in games:\n",
    "        result = checkWin(movesToBoard(game))\n",
    "        if result == -1:\n",
    "            continue\n",
    "        elif result == player:\n",
    "            stats[\"win\"] += 1\n",
    "        elif result == 0:\n",
    "            stats[\"draw\"] += 1\n",
    "        else:\n",
    "            stats[\"loss\"] += 1\n",
    "    \n",
    "    winPct = stats[\"win\"] / len(games) * 100\n",
    "    lossPct = stats[\"loss\"] / len(games) * 100\n",
    "    drawPct = stats[\"draw\"] / len(games) * 100\n",
    "\n",
    "    print(\"Results for player:\", player)\n",
    "    print(\"Wins: %d (%.1f%%)\" % (stats[\"win\"], winPct))\n",
    "    print(\"Loss: %d (%.1f%%)\" % (stats[\"loss\"], lossPct))\n",
    "    print(\"Draw: %d (%.1f%%)\" % (stats[\"draw\"], drawPct))"
   ]
  },
  {
   "cell_type": "code",
   "execution_count": 12,
   "id": "af1ede72-6374-4eee-a518-fbcb6c35e106",
   "metadata": {},
   "outputs": [
    {
     "name": "stdout",
     "output_type": "stream",
     "text": [
      "🤖|0|0|🤖|0|0|😀|0\n",
      "-----\n",
      "0|😀|🤖|0|😀|😀|0|😀\n",
      "-----\n",
      "😀|0|0|0|0|😀|🤖|0\n",
      "-----\n",
      "0|0|0|0|😀|0|🤖|🤖\n",
      "-----\n",
      "0|0|😀|😀|0|0|🤖|0\n",
      "-----\n",
      "😀|😀|😀|🤖|0|🤖|0|🤖\n",
      "-----\n",
      "😀|😀|0|0|0|🤖|🤖|0\n",
      "-----\n",
      "0|😀|🤖|🤖|😀|🤖|🤖|0\n",
      "1\n"
     ]
    }
   ],
   "source": [
    "board = movesToBoard(history)\n",
    "printBoard(board)\n",
    "print(checkWin(board))"
   ]
  },
  {
   "cell_type": "code",
   "execution_count": 12,
   "id": "0bfdd429-650d-4389-9936-beacedf6215f",
   "metadata": {},
   "outputs": [],
   "source": [
    "## Start simulator\n",
    "# from tqdm import tqdm\n",
    "# games = []\n",
    "# for _ in tqdm(range(5000)):\n",
    "#     games.append(simulateGame())\n"
   ]
  },
  {
   "cell_type": "code",
   "execution_count": 62,
   "id": "f7d1ab0d-9b72-4eb1-979b-81ee34407647",
   "metadata": {},
   "outputs": [],
   "source": []
  },
  {
   "cell_type": "code",
   "execution_count": 13,
   "id": "9a0fefdf-0ad6-486a-9f18-c9b1372d9225",
   "metadata": {},
   "outputs": [],
   "source": [
    "# gameStats(games)\n",
    "# print()\n",
    "# gameStats(games, player=O)"
   ]
  },
  {
   "cell_type": "code",
   "execution_count": 14,
   "id": "8757a42a-61cd-404a-b255-7e71f95d8d74",
   "metadata": {},
   "outputs": [],
   "source": [
    "# import numpy as np\n",
    "# #save\n",
    "# np.array(games).dump(open('games.npy', 'wb'))\n",
    "# #load\n",
    "# myArray = np.load(\"games.npy\",allow_pickle=True)\n",
    "# myArray = myArray.tolist()"
   ]
  },
  {
   "cell_type": "code",
   "execution_count": 13,
   "id": "d3a5ac54-a3c0-4e16-aeda-48c00eb056e0",
   "metadata": {},
   "outputs": [],
   "source": [
    "import numpy as np\n",
    "myArray = np.load(\"games4.npy\",allow_pickle=True)\n",
    "myArray = myArray.tolist()"
   ]
  },
  {
   "cell_type": "code",
   "execution_count": 14,
   "id": "f6c6db80-05b6-4d59-ab97-597b6139a79c",
   "metadata": {},
   "outputs": [],
   "source": [
    "games = myArray"
   ]
  },
  {
   "cell_type": "code",
   "execution_count": 18,
   "id": "e7a66e1a-8f2a-4d78-9f32-f10b3d3d4653",
   "metadata": {},
   "outputs": [
    {
     "name": "stdout",
     "output_type": "stream",
     "text": [
      "Results for player: 1\n",
      "Wins: 755 (75.5%)\n",
      "Loss: 240 (24.0%)\n",
      "Draw: 5 (0.5%)\n",
      "None\n"
     ]
    }
   ],
   "source": [
    "print(gameStats(games))"
   ]
  },
  {
   "cell_type": "markdown",
   "id": "a7322a3b-0524-4dcf-a4ac-1f16365c5779",
   "metadata": {},
   "source": [
    "## DNN"
   ]
  },
  {
   "cell_type": "code",
   "execution_count": 20,
   "id": "5b1f2964-7f0d-4e37-9b53-d6cc20577da6",
   "metadata": {},
   "outputs": [],
   "source": [
    "from tensorflow import keras \n",
    "# import keras\n",
    "from keras.models import Sequential\n",
    "from keras.layers import Dense\n",
    "from keras.layers import Dropout\n",
    "from keras.backend import reshape\n",
    "from keras.utils.np_utils import to_categorical\n",
    "def getModel():\n",
    "    numCells = _dim*_dim\n",
    "    outcomes = 3\n",
    "    model = Sequential()\n",
    "    model.add(Dense(200, activation='relu', input_shape=(_dim*_dim, )))\n",
    "    model.add(Dropout(0.2))\n",
    "    model.add(Dense(125, activation='relu'))\n",
    "    model.add(Dense(75, activation='relu'))\n",
    "    model.add(Dropout(0.1))\n",
    "    model.add(Dense(25, activation='relu'))\n",
    "    model.add(Dense(outcomes, activation='softmax'))\n",
    "    model.compile(loss='categorical_crossentropy', optimizer='rmsprop', metrics=['acc'])\n",
    "    return model"
   ]
  },
  {
   "cell_type": "code",
   "execution_count": 21,
   "id": "90addee1-e933-4991-82c6-c4fbbe1cf8ca",
   "metadata": {},
   "outputs": [],
   "source": [
    "# X = '😀' #P1 X\n",
    "# O = '🤖' #P2 O\n",
    "# space = '🗯' #blank space \n",
    "\n",
    "def gamesToWinLossData(games):\n",
    "    X = []\n",
    "    y = []\n",
    "    for game in games:\n",
    "        winner = checkWin(movesToBoard(game))\n",
    "        for move in range(len(game)):\n",
    "            X.append(movesToBoard(game[:(move + 1)]))\n",
    "            y.append(winner)\n",
    "\n",
    "    \n",
    "    X = np.array(X).reshape((-1, _dim*_dim))   \n",
    "    y = to_categorical(y)\n",
    "    \n",
    "    # Return an appropriate train/test split\n",
    "    trainNum = int(len(X) * 0.8)\n",
    "    return (X[:trainNum], X[trainNum:], y[:trainNum], y[trainNum:])"
   ]
  },
  {
   "cell_type": "code",
   "execution_count": null,
   "id": "0d668d7d-c1ef-47da-bae5-82e6268c999b",
   "metadata": {},
   "outputs": [],
   "source": []
  },
  {
   "cell_type": "code",
   "execution_count": null,
   "id": "ee794b29-46a1-4f04-be5b-247a48188477",
   "metadata": {},
   "outputs": [],
   "source": []
  },
  {
   "cell_type": "code",
   "execution_count": null,
   "id": "70de2025-97e6-4369-80af-bdc69c5f6714",
   "metadata": {},
   "outputs": [],
   "source": []
  },
  {
   "cell_type": "code",
   "execution_count": 22,
   "id": "0ac5e1dc-6c88-4f89-94a0-57ad14457b2f",
   "metadata": {},
   "outputs": [
    {
     "name": "stdout",
     "output_type": "stream",
     "text": [
      "Epoch 1/100\n",
      "248/248 [==============================] - 2s 3ms/step - loss: 0.6688 - acc: 0.6759 - val_loss: 0.7414 - val_acc: 0.6294\n",
      "Epoch 2/100\n",
      "248/248 [==============================] - 0s 2ms/step - loss: 0.4139 - acc: 0.8211 - val_loss: 0.9702 - val_acc: 0.6113\n",
      "Epoch 3/100\n",
      "248/248 [==============================] - 0s 2ms/step - loss: 0.2798 - acc: 0.8853 - val_loss: 1.2663 - val_acc: 0.5951\n",
      "Epoch 4/100\n",
      "248/248 [==============================] - 0s 2ms/step - loss: 0.2084 - acc: 0.9163 - val_loss: 1.5626 - val_acc: 0.5971\n",
      "Epoch 5/100\n",
      "248/248 [==============================] - 0s 2ms/step - loss: 0.1741 - acc: 0.9294 - val_loss: 1.5661 - val_acc: 0.5950\n",
      "Epoch 6/100\n",
      "248/248 [==============================] - 0s 2ms/step - loss: 0.1567 - acc: 0.9354 - val_loss: 1.8261 - val_acc: 0.6102\n",
      "Epoch 7/100\n",
      "248/248 [==============================] - 0s 2ms/step - loss: 0.1345 - acc: 0.9454 - val_loss: 2.2058 - val_acc: 0.5961\n",
      "Epoch 8/100\n",
      "248/248 [==============================] - 0s 2ms/step - loss: 0.1325 - acc: 0.9449 - val_loss: 2.1671 - val_acc: 0.6015\n",
      "Epoch 9/100\n",
      "248/248 [==============================] - 0s 2ms/step - loss: 0.1208 - acc: 0.9489 - val_loss: 2.0950 - val_acc: 0.5897\n",
      "Epoch 10/100\n",
      "248/248 [==============================] - 0s 2ms/step - loss: 0.1180 - acc: 0.9503 - val_loss: 2.5651 - val_acc: 0.6006\n",
      "Epoch 11/100\n",
      "248/248 [==============================] - 0s 2ms/step - loss: 0.1139 - acc: 0.9541 - val_loss: 2.3439 - val_acc: 0.5853\n",
      "Epoch 12/100\n",
      "248/248 [==============================] - 0s 2ms/step - loss: 0.1069 - acc: 0.9562 - val_loss: 2.7851 - val_acc: 0.5821\n",
      "Epoch 13/100\n",
      "248/248 [==============================] - 0s 2ms/step - loss: 0.1028 - acc: 0.9584 - val_loss: 2.7415 - val_acc: 0.5728\n",
      "Epoch 14/100\n",
      "248/248 [==============================] - 0s 2ms/step - loss: 0.1004 - acc: 0.9572 - val_loss: 2.8892 - val_acc: 0.5833\n",
      "Epoch 15/100\n",
      "248/248 [==============================] - 1s 2ms/step - loss: 0.1042 - acc: 0.9582 - val_loss: 3.0457 - val_acc: 0.5770\n",
      "Epoch 16/100\n",
      "248/248 [==============================] - 0s 2ms/step - loss: 0.0931 - acc: 0.9613 - val_loss: 3.2555 - val_acc: 0.5997\n",
      "Epoch 17/100\n",
      "248/248 [==============================] - 0s 2ms/step - loss: 0.0928 - acc: 0.9615 - val_loss: 3.3336 - val_acc: 0.5806\n",
      "Epoch 18/100\n",
      "248/248 [==============================] - 0s 2ms/step - loss: 0.0966 - acc: 0.9606 - val_loss: 3.2039 - val_acc: 0.5725\n",
      "Epoch 19/100\n",
      "248/248 [==============================] - 0s 2ms/step - loss: 0.0951 - acc: 0.9625 - val_loss: 3.0716 - val_acc: 0.5887\n",
      "Epoch 20/100\n",
      "248/248 [==============================] - 0s 2ms/step - loss: 0.0913 - acc: 0.9628 - val_loss: 3.5220 - val_acc: 0.5927\n",
      "Epoch 21/100\n",
      "248/248 [==============================] - 0s 2ms/step - loss: 0.0904 - acc: 0.9639 - val_loss: 3.2961 - val_acc: 0.5817\n",
      "Epoch 22/100\n",
      "248/248 [==============================] - 0s 2ms/step - loss: 0.0845 - acc: 0.9645 - val_loss: 3.4644 - val_acc: 0.5908\n",
      "Epoch 23/100\n",
      "248/248 [==============================] - 0s 2ms/step - loss: 0.0930 - acc: 0.9620 - val_loss: 3.6716 - val_acc: 0.5876\n",
      "Epoch 24/100\n",
      "248/248 [==============================] - 0s 2ms/step - loss: 0.0869 - acc: 0.9643 - val_loss: 3.0844 - val_acc: 0.5724\n",
      "Epoch 25/100\n",
      "248/248 [==============================] - 0s 2ms/step - loss: 0.0832 - acc: 0.9667 - val_loss: 3.5904 - val_acc: 0.5956\n",
      "Epoch 26/100\n",
      "248/248 [==============================] - 0s 2ms/step - loss: 0.0824 - acc: 0.9644 - val_loss: 3.3056 - val_acc: 0.5856\n",
      "Epoch 27/100\n",
      "248/248 [==============================] - 0s 2ms/step - loss: 0.0844 - acc: 0.9661 - val_loss: 3.5251 - val_acc: 0.5827\n",
      "Epoch 28/100\n",
      "248/248 [==============================] - 0s 2ms/step - loss: 0.0873 - acc: 0.9643 - val_loss: 4.2877 - val_acc: 0.5861\n",
      "Epoch 29/100\n",
      "248/248 [==============================] - 0s 2ms/step - loss: 0.0850 - acc: 0.9653 - val_loss: 3.1416 - val_acc: 0.5943\n",
      "Epoch 30/100\n",
      "248/248 [==============================] - 0s 2ms/step - loss: 0.0824 - acc: 0.9660 - val_loss: 4.2394 - val_acc: 0.5822\n",
      "Epoch 31/100\n",
      "248/248 [==============================] - 0s 2ms/step - loss: 0.0817 - acc: 0.9669 - val_loss: 4.5986 - val_acc: 0.5876\n",
      "Epoch 32/100\n",
      "248/248 [==============================] - 0s 2ms/step - loss: 0.0842 - acc: 0.9644 - val_loss: 3.8373 - val_acc: 0.5825\n",
      "Epoch 33/100\n",
      "248/248 [==============================] - 0s 2ms/step - loss: 0.0768 - acc: 0.9677 - val_loss: 3.8585 - val_acc: 0.6006\n",
      "Epoch 34/100\n",
      "248/248 [==============================] - 0s 2ms/step - loss: 0.0793 - acc: 0.9670 - val_loss: 3.7325 - val_acc: 0.5927\n",
      "Epoch 35/100\n",
      "248/248 [==============================] - 0s 2ms/step - loss: 0.0818 - acc: 0.9674 - val_loss: 4.1841 - val_acc: 0.5819\n",
      "Epoch 36/100\n",
      "248/248 [==============================] - 0s 2ms/step - loss: 0.0844 - acc: 0.9643 - val_loss: 4.0655 - val_acc: 0.5863\n",
      "Epoch 37/100\n",
      "248/248 [==============================] - 0s 2ms/step - loss: 0.0800 - acc: 0.9665 - val_loss: 4.1564 - val_acc: 0.5927\n",
      "Epoch 38/100\n",
      "248/248 [==============================] - 0s 2ms/step - loss: 0.0794 - acc: 0.9650 - val_loss: 4.1767 - val_acc: 0.5900\n",
      "Epoch 39/100\n",
      "248/248 [==============================] - 0s 2ms/step - loss: 0.0844 - acc: 0.9664 - val_loss: 4.0272 - val_acc: 0.5885\n",
      "Epoch 40/100\n",
      "248/248 [==============================] - 0s 2ms/step - loss: 0.0771 - acc: 0.9678 - val_loss: 4.2127 - val_acc: 0.5898\n",
      "Epoch 41/100\n",
      "248/248 [==============================] - 0s 2ms/step - loss: 0.0777 - acc: 0.9679 - val_loss: 3.9770 - val_acc: 0.5864\n",
      "Epoch 42/100\n",
      "248/248 [==============================] - 0s 2ms/step - loss: 0.0806 - acc: 0.9663 - val_loss: 4.2782 - val_acc: 0.5901\n",
      "Epoch 43/100\n",
      "248/248 [==============================] - 0s 2ms/step - loss: 0.0832 - acc: 0.9661 - val_loss: 4.5640 - val_acc: 0.5958\n",
      "Epoch 44/100\n",
      "248/248 [==============================] - 0s 2ms/step - loss: 0.0737 - acc: 0.9698 - val_loss: 4.3863 - val_acc: 0.5932\n",
      "Epoch 45/100\n",
      "248/248 [==============================] - 0s 2ms/step - loss: 0.0787 - acc: 0.9675 - val_loss: 4.0454 - val_acc: 0.5922\n",
      "Epoch 46/100\n",
      "248/248 [==============================] - 0s 2ms/step - loss: 0.0754 - acc: 0.9682 - val_loss: 4.7143 - val_acc: 0.5971\n",
      "Epoch 47/100\n",
      "248/248 [==============================] - 0s 2ms/step - loss: 0.0822 - acc: 0.9670 - val_loss: 4.1972 - val_acc: 0.5961\n",
      "Epoch 48/100\n",
      "248/248 [==============================] - 0s 2ms/step - loss: 0.0809 - acc: 0.9682 - val_loss: 4.5350 - val_acc: 0.5974\n",
      "Epoch 49/100\n",
      "248/248 [==============================] - 0s 2ms/step - loss: 0.0781 - acc: 0.9686 - val_loss: 3.9259 - val_acc: 0.5885\n",
      "Epoch 50/100\n",
      "248/248 [==============================] - 0s 2ms/step - loss: 0.0769 - acc: 0.9692 - val_loss: 4.3181 - val_acc: 0.5879\n",
      "Epoch 51/100\n",
      "248/248 [==============================] - 0s 2ms/step - loss: 0.0784 - acc: 0.9675 - val_loss: 5.1119 - val_acc: 0.6005\n",
      "Epoch 52/100\n",
      "248/248 [==============================] - 0s 2ms/step - loss: 0.0801 - acc: 0.9670 - val_loss: 3.8269 - val_acc: 0.5908\n",
      "Epoch 53/100\n",
      "248/248 [==============================] - 0s 2ms/step - loss: 0.0799 - acc: 0.9674 - val_loss: 4.1248 - val_acc: 0.5985\n",
      "Epoch 54/100\n",
      "248/248 [==============================] - 0s 2ms/step - loss: 0.0790 - acc: 0.9693 - val_loss: 4.1018 - val_acc: 0.5908\n",
      "Epoch 55/100\n",
      "248/248 [==============================] - 0s 2ms/step - loss: 0.0803 - acc: 0.9681 - val_loss: 3.9796 - val_acc: 0.5919\n",
      "Epoch 56/100\n",
      "248/248 [==============================] - 0s 2ms/step - loss: 0.0790 - acc: 0.9686 - val_loss: 4.5509 - val_acc: 0.5947\n",
      "Epoch 57/100\n",
      "248/248 [==============================] - 0s 2ms/step - loss: 0.0827 - acc: 0.9661 - val_loss: 4.2432 - val_acc: 0.6021\n",
      "Epoch 58/100\n",
      "248/248 [==============================] - 0s 2ms/step - loss: 0.0744 - acc: 0.9686 - val_loss: 5.4615 - val_acc: 0.5914\n",
      "Epoch 59/100\n",
      "248/248 [==============================] - 0s 2ms/step - loss: 0.0745 - acc: 0.9695 - val_loss: 4.3735 - val_acc: 0.5956\n",
      "Epoch 60/100\n",
      "248/248 [==============================] - 0s 2ms/step - loss: 0.0809 - acc: 0.9679 - val_loss: 4.3531 - val_acc: 0.5956\n",
      "Epoch 61/100\n",
      "248/248 [==============================] - 0s 2ms/step - loss: 0.0781 - acc: 0.9669 - val_loss: 5.4030 - val_acc: 0.5968\n",
      "Epoch 62/100\n",
      "248/248 [==============================] - 0s 2ms/step - loss: 0.0761 - acc: 0.9683 - val_loss: 4.3479 - val_acc: 0.5939\n",
      "Epoch 63/100\n",
      "248/248 [==============================] - 0s 2ms/step - loss: 0.0786 - acc: 0.9683 - val_loss: 4.9704 - val_acc: 0.5951\n",
      "Epoch 64/100\n",
      "248/248 [==============================] - 0s 2ms/step - loss: 0.0747 - acc: 0.9702 - val_loss: 3.9638 - val_acc: 0.5919\n",
      "Epoch 65/100\n",
      "248/248 [==============================] - 0s 2ms/step - loss: 0.0748 - acc: 0.9695 - val_loss: 4.9703 - val_acc: 0.5956\n",
      "Epoch 66/100\n",
      "248/248 [==============================] - 0s 2ms/step - loss: 0.0721 - acc: 0.9689 - val_loss: 4.3931 - val_acc: 0.5885\n",
      "Epoch 67/100\n",
      "248/248 [==============================] - 0s 2ms/step - loss: 0.0733 - acc: 0.9692 - val_loss: 4.5818 - val_acc: 0.6082\n",
      "Epoch 68/100\n",
      "248/248 [==============================] - 0s 2ms/step - loss: 0.0797 - acc: 0.9685 - val_loss: 4.8235 - val_acc: 0.5914\n",
      "Epoch 69/100\n",
      "248/248 [==============================] - 0s 2ms/step - loss: 0.0773 - acc: 0.9682 - val_loss: 4.3755 - val_acc: 0.5977\n",
      "Epoch 70/100\n",
      "248/248 [==============================] - 0s 2ms/step - loss: 0.0780 - acc: 0.9676 - val_loss: 5.4540 - val_acc: 0.5856\n",
      "Epoch 71/100\n",
      "248/248 [==============================] - 0s 2ms/step - loss: 0.0778 - acc: 0.9677 - val_loss: 4.9337 - val_acc: 0.5895\n",
      "Epoch 72/100\n",
      "248/248 [==============================] - 0s 2ms/step - loss: 0.0734 - acc: 0.9701 - val_loss: 5.3669 - val_acc: 0.5895\n",
      "Epoch 73/100\n",
      "248/248 [==============================] - 0s 2ms/step - loss: 0.0769 - acc: 0.9683 - val_loss: 5.3980 - val_acc: 0.5793\n",
      "Epoch 74/100\n",
      "248/248 [==============================] - 0s 2ms/step - loss: 0.0721 - acc: 0.9705 - val_loss: 4.7249 - val_acc: 0.5882\n",
      "Epoch 75/100\n",
      "248/248 [==============================] - 0s 2ms/step - loss: 0.0781 - acc: 0.9679 - val_loss: 5.2351 - val_acc: 0.5901\n",
      "Epoch 76/100\n",
      "248/248 [==============================] - 0s 2ms/step - loss: 0.0796 - acc: 0.9668 - val_loss: 5.5341 - val_acc: 0.5966\n",
      "Epoch 77/100\n",
      "248/248 [==============================] - 0s 2ms/step - loss: 0.0778 - acc: 0.9687 - val_loss: 5.0168 - val_acc: 0.6018\n",
      "Epoch 78/100\n",
      "248/248 [==============================] - 0s 2ms/step - loss: 0.0769 - acc: 0.9694 - val_loss: 6.2184 - val_acc: 0.5943\n",
      "Epoch 79/100\n",
      "248/248 [==============================] - 0s 2ms/step - loss: 0.0739 - acc: 0.9700 - val_loss: 5.7434 - val_acc: 0.5914\n",
      "Epoch 80/100\n",
      "248/248 [==============================] - 0s 2ms/step - loss: 0.0709 - acc: 0.9707 - val_loss: 5.0280 - val_acc: 0.5871\n",
      "Epoch 81/100\n",
      "248/248 [==============================] - 0s 2ms/step - loss: 0.0790 - acc: 0.9679 - val_loss: 5.9962 - val_acc: 0.5848\n",
      "Epoch 82/100\n",
      "248/248 [==============================] - 0s 2ms/step - loss: 0.0799 - acc: 0.9666 - val_loss: 5.8237 - val_acc: 0.5942\n",
      "Epoch 83/100\n",
      "248/248 [==============================] - 0s 2ms/step - loss: 0.0803 - acc: 0.9670 - val_loss: 6.7709 - val_acc: 0.5947\n",
      "Epoch 84/100\n",
      "248/248 [==============================] - 0s 2ms/step - loss: 0.0766 - acc: 0.9677 - val_loss: 5.2993 - val_acc: 0.5958\n",
      "Epoch 85/100\n",
      "248/248 [==============================] - 0s 2ms/step - loss: 0.0786 - acc: 0.9682 - val_loss: 5.3491 - val_acc: 0.5893\n",
      "Epoch 86/100\n",
      "248/248 [==============================] - 0s 2ms/step - loss: 0.0766 - acc: 0.9697 - val_loss: 5.6264 - val_acc: 0.5951\n",
      "Epoch 87/100\n",
      "248/248 [==============================] - 0s 2ms/step - loss: 0.0713 - acc: 0.9702 - val_loss: 5.5216 - val_acc: 0.5909\n",
      "Epoch 88/100\n",
      "248/248 [==============================] - 0s 2ms/step - loss: 0.0696 - acc: 0.9709 - val_loss: 5.1042 - val_acc: 0.5874\n",
      "Epoch 89/100\n",
      "248/248 [==============================] - 0s 2ms/step - loss: 0.0721 - acc: 0.9710 - val_loss: 4.9705 - val_acc: 0.5966\n",
      "Epoch 90/100\n",
      "248/248 [==============================] - 0s 2ms/step - loss: 0.0749 - acc: 0.9697 - val_loss: 4.2830 - val_acc: 0.5960\n",
      "Epoch 91/100\n",
      "248/248 [==============================] - 0s 2ms/step - loss: 0.0776 - acc: 0.9703 - val_loss: 5.3216 - val_acc: 0.5992\n",
      "Epoch 92/100\n",
      "248/248 [==============================] - 0s 2ms/step - loss: 0.0759 - acc: 0.9686 - val_loss: 4.4703 - val_acc: 0.5995\n",
      "Epoch 93/100\n",
      "248/248 [==============================] - 0s 2ms/step - loss: 0.0734 - acc: 0.9696 - val_loss: 5.2494 - val_acc: 0.5968\n",
      "Epoch 94/100\n",
      "248/248 [==============================] - 0s 2ms/step - loss: 0.0720 - acc: 0.9695 - val_loss: 5.4559 - val_acc: 0.6015\n",
      "Epoch 95/100\n",
      "248/248 [==============================] - 0s 2ms/step - loss: 0.0769 - acc: 0.9684 - val_loss: 5.7269 - val_acc: 0.6002\n",
      "Epoch 96/100\n",
      "248/248 [==============================] - 0s 2ms/step - loss: 0.0760 - acc: 0.9689 - val_loss: 7.0552 - val_acc: 0.5909\n",
      "Epoch 97/100\n",
      "248/248 [==============================] - 0s 2ms/step - loss: 0.0789 - acc: 0.9695 - val_loss: 4.7601 - val_acc: 0.6027\n",
      "Epoch 98/100\n",
      "248/248 [==============================] - 0s 2ms/step - loss: 0.0752 - acc: 0.9687 - val_loss: 6.6540 - val_acc: 0.5871\n",
      "Epoch 99/100\n",
      "248/248 [==============================] - 0s 2ms/step - loss: 0.0791 - acc: 0.9678 - val_loss: 5.1204 - val_acc: 0.5989\n",
      "Epoch 100/100\n",
      "248/248 [==============================] - 0s 2ms/step - loss: 0.0704 - acc: 0.9713 - val_loss: 4.9541 - val_acc: 0.5913\n"
     ]
    }
   ],
   "source": [
    "import numpy as np\n",
    "model = getModel()\n",
    "X_train, X_test, y_train, y_test = gamesToWinLossData(games)\n",
    "history = model.fit(X_train, y_train, validation_data=(X_test, y_test), epochs=100, batch_size=100)"
   ]
  },
  {
   "cell_type": "code",
   "execution_count": 23,
   "id": "5ccbbf33-b9c5-411a-8291-59262ba17669",
   "metadata": {},
   "outputs": [],
   "source": [
    "model.save('model_AIwihtRND_games4.h5')"
   ]
  },
  {
   "cell_type": "code",
   "execution_count": null,
   "id": "d2ca137e-e799-4b1c-9028-c86f365b5827",
   "metadata": {},
   "outputs": [],
   "source": []
  },
  {
   "cell_type": "code",
   "execution_count": 25,
   "id": "88fb87d8-135a-4570-829b-5baa9c08ba69",
   "metadata": {},
   "outputs": [],
   "source": [
    "def bestMove(board, model, player, rnd=0):\n",
    "    scores = []\n",
    "    moves = getMoves(board)\n",
    "    \n",
    "    # Make predictions for each possible move\n",
    "    for i in range(len(moves)):\n",
    "        future = np.array(board)\n",
    "        future[moves[i][0]][moves[i][1]] = player\n",
    "        prediction = model.predict(future.reshape((-1, _dim*_dim)))[0]\n",
    "        if player == 1:\n",
    "            winPrediction = prediction[1]\n",
    "            lossPrediction = prediction[2]\n",
    "        else:\n",
    "            winPrediction = prediction[2]\n",
    "            lossPrediction = prediction[1]\n",
    "        drawPrediction = prediction[0]\n",
    "        if winPrediction - lossPrediction > 0:\n",
    "            scores.append(winPrediction - lossPrediction)\n",
    "        else:\n",
    "            scores.append(drawPrediction - lossPrediction)\n",
    "\n",
    "    # Choose the best move with a random factor\n",
    "    bestMoves = np.flip(np.argsort(scores))\n",
    "    for i in range(len(bestMoves)):\n",
    "        if random.random() * rnd < 0.5:\n",
    "            return moves[bestMoves[i]]\n",
    "\n",
    "    # Choose a move completely at random\n",
    "    return moves[random.randint(0, len(moves) - 1)]"
   ]
  },
  {
   "cell_type": "code",
   "execution_count": 26,
   "id": "1cb0ed10-d965-44f5-8417-3ee1e1623abd",
   "metadata": {},
   "outputs": [
    {
     "name": "stderr",
     "output_type": "stream",
     "text": [
      "100%|███| 1000/1000 [5:08:50<00:00, 18.53s/it]\n"
     ]
    }
   ],
   "source": [
    "from tqdm import tqdm\n",
    "new_games = [simulateGame(p1=model) for _ in tqdm(range(1000))]"
   ]
  },
  {
   "cell_type": "code",
   "execution_count": 27,
   "id": "310732ea-a821-48f2-b2d3-2533062bf8e1",
   "metadata": {},
   "outputs": [
    {
     "name": "stdout",
     "output_type": "stream",
     "text": [
      "Results for player: 1\n",
      "Wins: 741 (74.1%)\n",
      "Loss: 254 (25.4%)\n",
      "Draw: 5 (0.5%)\n",
      "None\n"
     ]
    }
   ],
   "source": [
    "# print(gameStats(games2))\n",
    "\n",
    "# print()\n",
    "\n",
    "print(gameStats(new_games))"
   ]
  },
  {
   "cell_type": "code",
   "execution_count": 28,
   "id": "c2efd778-3b5e-4dd7-8524-7a5568d42337",
   "metadata": {},
   "outputs": [
    {
     "name": "stderr",
     "output_type": "stream",
     "text": [
      "D:\\Miniconda\\envs\\interface\\lib\\site-packages\\ipykernel_launcher.py:4: VisibleDeprecationWarning: Creating an ndarray from ragged nested sequences (which is a list-or-tuple of lists-or-tuples-or ndarrays with different lengths or shapes) is deprecated. If you meant to do this, you must specify 'dtype=object' when creating the ndarray\n",
      "  after removing the cwd from sys.path.\n"
     ]
    }
   ],
   "source": [
    "import numpy as np\n",
    "##--> save\n",
    "\n",
    "# np.array(new_games).dump(open('games5.npy', 'wb'))\n",
    "##--> load\n",
    "# myArray = np.load(\"games.npy\",allow_pickle=True)\n",
    "# myArray = myArray.tolist()"
   ]
  },
  {
   "cell_type": "code",
   "execution_count": 31,
   "id": "1c52bf14-eb89-4691-8760-a38f3b409555",
   "metadata": {},
   "outputs": [],
   "source": [
    "# new_games[0]"
   ]
  },
  {
   "cell_type": "code",
   "execution_count": 30,
   "id": "abb67f9d-31b3-4b2d-8a62-9b1f155470c2",
   "metadata": {},
   "outputs": [
    {
     "name": "stdout",
     "output_type": "stream",
     "text": [
      "Results for player: 1\n",
      "Wins: 741 (74.1%)\n",
      "Loss: 254 (25.4%)\n",
      "Draw: 5 (0.5%)\n",
      "None\n"
     ]
    }
   ],
   "source": [
    "myArray = np.load(\"games5.npy\",allow_pickle=True)\n",
    "myArray = myArray.tolist()\n",
    "print(gameStats(myArray))\n",
    "# myArray[0]"
   ]
  },
  {
   "cell_type": "markdown",
   "id": "320a75ca-635e-4211-93ef-91015d56cf14",
   "metadata": {
    "tags": []
   },
   "source": [
    "## AI VS Human"
   ]
  },
  {
   "cell_type": "code",
   "execution_count": 25,
   "id": "a83c0a5b-367d-4c7b-a55d-cbf43b47c824",
   "metadata": {},
   "outputs": [],
   "source": [
    "from tensorflow import keras \n",
    "from keras.models import load_model\n",
    "from keras.models import Sequential\n",
    "from keras.layers import Dense\n",
    "from keras.layers import Dropout\n",
    "from keras.backend import reshape\n",
    "from keras.utils.np_utils import to_categorical\n",
    "\n",
    "def getModel():\n",
    "    numCells = _dim*_dim\n",
    "    outcomes = 3\n",
    "    model = Sequential()\n",
    "    model.add(Dense(200, activation='relu', input_shape=(_dim*_dim, )))\n",
    "    model.add(Dropout(0.2))\n",
    "    model.add(Dense(125, activation='relu'))\n",
    "    model.add(Dense(75, activation='relu'))\n",
    "    model.add(Dropout(0.1))\n",
    "    model.add(Dense(25, activation='relu'))\n",
    "    model.add(Dense(outcomes, activation='softmax'))\n",
    "    model.compile(loss='categorical_crossentropy', optimizer='rmsprop', metrics=['acc'])\n",
    "    return model\n",
    "\n",
    "model = getModel()\n",
    "model = load_model(\"model_AIwihtRND_games3.h5\")"
   ]
  },
  {
   "cell_type": "code",
   "execution_count": 26,
   "id": "822a4773-f465-44ab-a46e-a76bafa124e4",
   "metadata": {},
   "outputs": [],
   "source": [
    "def bestMove(board, model, player, rnd=0):\n",
    "    scores = []\n",
    "    moves = getMoves(board)\n",
    "    \n",
    "    # Make predictions for each possible move\n",
    "    for i in range(len(moves)):\n",
    "        future = np.array(board)\n",
    "        future[moves[i][0]][moves[i][1]] = player\n",
    "        prediction = model.predict(future.reshape((-1, _dim*_dim)))[0]\n",
    "        if player == 1:\n",
    "            winPrediction = prediction[1]\n",
    "            lossPrediction = prediction[2]\n",
    "        else:\n",
    "            winPrediction = prediction[2]\n",
    "            lossPrediction = prediction[1]\n",
    "        drawPrediction = prediction[0]\n",
    "        if winPrediction - lossPrediction > 0:\n",
    "            scores.append(winPrediction - lossPrediction)\n",
    "        else:\n",
    "            scores.append(drawPrediction - lossPrediction)\n",
    "\n",
    "    # Choose the best move with a random factor\n",
    "    bestMoves = np.flip(np.argsort(scores))\n",
    "    for i in range(len(bestMoves)):\n",
    "        if random.random() * rnd < 0.5:\n",
    "            return moves[bestMoves[i]]\n",
    "\n",
    "    # Choose a move completely at random\n",
    "    return moves[random.randint(0, len(moves) - 1)]"
   ]
  },
  {
   "cell_type": "code",
   "execution_count": null,
   "id": "8964f802-6b76-4331-a2c5-b369f2df2ebc",
   "metadata": {},
   "outputs": [],
   "source": []
  },
  {
   "cell_type": "code",
   "execution_count": null,
   "id": "dcce65bc-0414-4cce-9b64-1041a0d9c4f3",
   "metadata": {},
   "outputs": [],
   "source": []
  },
  {
   "cell_type": "code",
   "execution_count": 44,
   "id": "c52016f9-88bf-4189-b891-d4b545e118e3",
   "metadata": {},
   "outputs": [
    {
     "name": "stdout",
     "output_type": "stream",
     "text": [
      "😀|🤖|0|0|0|0|0|0\n",
      "-----\n",
      "0|🤖|0|0|0|0|0|0\n",
      "-----\n",
      "0|0|0|🤖|0|0|0|0\n",
      "-----\n",
      "0|0|0|🤖|0|0|0|😀\n",
      "-----\n",
      "0|0|0|🤖|0|0|0|0\n",
      "-----\n",
      "0|0|0|🤖|🤖|🤖|0|0\n",
      "-----\n",
      "0|0|0|0|😀|0|😀|0\n",
      "-----\n",
      "0|0|0|0|🤖|😀|😀|😀\n",
      "-1\n"
     ]
    }
   ],
   "source": [
    "# board = initBoard()\n",
    "board[7][4] = 2\n",
    "printBoard(board)\n",
    "print(checkWin(board))"
   ]
  },
  {
   "cell_type": "code",
   "execution_count": 45,
   "id": "d9d600a9-8a50-4f5c-b9e3-14671b78467c",
   "metadata": {},
   "outputs": [
    {
     "name": "stdout",
     "output_type": "stream",
     "text": [
      "😀|🤖|0|0|0|0|0|0\n",
      "-----\n",
      "0|🤖|0|0|0|0|0|0\n",
      "-----\n",
      "0|0|0|🤖|0|0|0|0\n",
      "-----\n",
      "0|0|0|🤖|😀|0|0|😀\n",
      "-----\n",
      "0|0|0|🤖|0|0|0|0\n",
      "-----\n",
      "0|0|0|🤖|🤖|🤖|0|0\n",
      "-----\n",
      "0|0|0|0|😀|0|😀|0\n",
      "-----\n",
      "0|0|0|0|🤖|😀|😀|😀\n",
      "-1\n"
     ]
    }
   ],
   "source": [
    "move = bestMove(board, model, 1)\n",
    "board[move[0]][move[1]] = 1\n",
    "printBoard(board)\n",
    "print(checkWin(board))"
   ]
  },
  {
   "cell_type": "code",
   "execution_count": null,
   "id": "9b952eb3-8c08-4fd0-9bfe-e81e8fdb2e4a",
   "metadata": {},
   "outputs": [],
   "source": []
  },
  {
   "cell_type": "code",
   "execution_count": null,
   "id": "13fb3264-66fd-44c9-ac35-aef0302db4f6",
   "metadata": {},
   "outputs": [],
   "source": []
  },
  {
   "cell_type": "code",
   "execution_count": null,
   "id": "6ba4e041-03e6-48a0-b077-65cba81a72e2",
   "metadata": {},
   "outputs": [],
   "source": []
  },
  {
   "cell_type": "code",
   "execution_count": null,
   "id": "dce5f14f-a329-463e-ad6d-a019e917b9bf",
   "metadata": {},
   "outputs": [],
   "source": []
  },
  {
   "cell_type": "code",
   "execution_count": null,
   "id": "5bce4c0a-2fee-407c-aa3b-f89e83c535f5",
   "metadata": {},
   "outputs": [],
   "source": []
  },
  {
   "cell_type": "code",
   "execution_count": null,
   "id": "bb1c50e2-07ec-4039-9ff0-aaa8d76bf3b8",
   "metadata": {},
   "outputs": [],
   "source": []
  },
  {
   "cell_type": "code",
   "execution_count": null,
   "id": "7e919ca6-0383-4ac1-b2ab-fa1e3f9189c6",
   "metadata": {},
   "outputs": [],
   "source": []
  },
  {
   "cell_type": "code",
   "execution_count": null,
   "id": "1d8118ba-cc66-4292-b268-c2dbbe69f09d",
   "metadata": {},
   "outputs": [],
   "source": []
  },
  {
   "cell_type": "code",
   "execution_count": 256,
   "id": "6900ae64-e1f6-4398-b17c-35049b98f2cb",
   "metadata": {},
   "outputs": [
    {
     "name": "stdout",
     "output_type": "stream",
     "text": [
      "😀|0|0|0|0|0|0|😀|0|0\n",
      "-----\n",
      "0|🤖|0|0|0|0|0|0|0|0\n",
      "-----\n",
      "0|🤖|0|0|0|0|0|0|0|0\n",
      "-----\n",
      "0|🤖|0|0|0|0|0|0|0|0\n",
      "-----\n",
      "0|🤖|🤖|0|0|0|0|0|0|0\n",
      "-----\n",
      "0|0|0|0|0|0|0|0|0|0\n",
      "-----\n",
      "0|0|0|0|0|0|0|0|0|0\n",
      "-----\n",
      "0|0|0|0|0|0|0|0|0|0\n",
      "-----\n",
      "0|😀|0|0|0|0|0|0|0|0\n",
      "-----\n",
      "0|0|0|0|0|0|0|😀|😀|😀\n"
     ]
    }
   ],
   "source": [
    "# board = initBoard()\n",
    "move = bestMove(board, model, 1)\n",
    "board[move[0]][move[1]] = 1\n",
    "printBoard(board)"
   ]
  },
  {
   "cell_type": "code",
   "execution_count": 257,
   "id": "76983513-6ff3-4e3c-ad26-58449993a4a2",
   "metadata": {},
   "outputs": [
    {
     "name": "stdout",
     "output_type": "stream",
     "text": [
      "😀|0|0|0|0|0|0|😀|0|0\n",
      "-----\n",
      "0|🤖|0|0|0|0|0|0|0|0\n",
      "-----\n",
      "0|🤖|0|0|0|0|0|0|0|0\n",
      "-----\n",
      "0|🤖|0|0|0|0|0|0|0|0\n",
      "-----\n",
      "0|🤖|🤖|🤖|0|0|0|0|0|0\n",
      "-----\n",
      "0|0|0|0|0|0|0|0|0|0\n",
      "-----\n",
      "0|0|0|0|0|0|0|0|0|0\n",
      "-----\n",
      "0|0|0|0|0|0|0|0|0|0\n",
      "-----\n",
      "0|😀|0|0|0|0|0|0|0|0\n",
      "-----\n",
      "0|0|0|0|0|0|0|😀|😀|😀\n"
     ]
    }
   ],
   "source": [
    "board[4][3] = 2\n",
    "printBoard(board)"
   ]
  },
  {
   "cell_type": "code",
   "execution_count": 258,
   "id": "b956018c-5fe9-4d71-8a63-d65b67f0e555",
   "metadata": {},
   "outputs": [
    {
     "name": "stdout",
     "output_type": "stream",
     "text": [
      "😀|0|0|0|0|0|0|😀|0|0\n",
      "-----\n",
      "0|🤖|0|0|0|0|0|0|0|0\n",
      "-----\n",
      "0|🤖|0|0|0|0|0|0|0|0\n",
      "-----\n",
      "0|🤖|0|0|0|0|0|0|0|0\n",
      "-----\n",
      "0|🤖|🤖|🤖|0|0|0|0|0|0\n",
      "-----\n",
      "0|0|0|0|0|0|0|0|0|0\n",
      "-----\n",
      "0|0|0|0|0|0|0|0|0|0\n",
      "-----\n",
      "0|0|0|0|0|0|0|0|0|0\n",
      "-----\n",
      "0|😀|0|0|0|0|0|0|0|0\n",
      "-----\n",
      "0|0|0|0|0|0|😀|😀|😀|😀\n"
     ]
    }
   ],
   "source": [
    "# board = initBoard()\n",
    "move = bestMove(board, model, 1)\n",
    "board[move[0]][move[1]] = 1\n",
    "printBoard(board)"
   ]
  },
  {
   "cell_type": "code",
   "execution_count": 259,
   "id": "5587c7b6-342a-4703-9f01-7b87082f65d7",
   "metadata": {},
   "outputs": [
    {
     "name": "stdout",
     "output_type": "stream",
     "text": [
      "😀|0|0|0|0|0|0|😀|0|0\n",
      "-----\n",
      "0|🤖|0|0|0|0|0|0|0|0\n",
      "-----\n",
      "0|🤖|0|0|0|0|0|0|0|0\n",
      "-----\n",
      "0|🤖|0|0|0|0|0|0|0|0\n",
      "-----\n",
      "0|🤖|🤖|🤖|0|0|0|0|0|0\n",
      "-----\n",
      "0|0|0|0|0|0|0|0|0|0\n",
      "-----\n",
      "0|0|0|0|0|0|0|0|0|0\n",
      "-----\n",
      "0|0|0|0|0|0|0|0|0|0\n",
      "-----\n",
      "0|😀|0|0|0|0|0|0|0|0\n",
      "-----\n",
      "0|0|0|0|0|😀|😀|😀|😀|😀\n"
     ]
    }
   ],
   "source": [
    "# board = initBoard()\n",
    "move = bestMove(board, model, 1)\n",
    "board[move[0]][move[1]] = 1\n",
    "printBoard(board)"
   ]
  },
  {
   "cell_type": "code",
   "execution_count": 260,
   "id": "21a49322-26ec-4952-a563-a46b7b149ab3",
   "metadata": {},
   "outputs": [
    {
     "name": "stdout",
     "output_type": "stream",
     "text": [
      "1\n"
     ]
    }
   ],
   "source": [
    "print(checkWin(board))"
   ]
  },
  {
   "cell_type": "code",
   "execution_count": null,
   "id": "9b875bd3-c451-4033-926c-15f7ecc21b81",
   "metadata": {},
   "outputs": [],
   "source": []
  }
 ],
 "metadata": {
  "kernelspec": {
   "display_name": "Python 3 (ipykernel)",
   "language": "python",
   "name": "python3"
  },
  "language_info": {
   "codemirror_mode": {
    "name": "ipython",
    "version": 3
   },
   "file_extension": ".py",
   "mimetype": "text/x-python",
   "name": "python",
   "nbconvert_exporter": "python",
   "pygments_lexer": "ipython3",
   "version": "3.7.11"
  }
 },
 "nbformat": 4,
 "nbformat_minor": 5
}
