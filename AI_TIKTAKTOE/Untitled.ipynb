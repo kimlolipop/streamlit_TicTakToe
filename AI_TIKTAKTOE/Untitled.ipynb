{
 "cells": [
  {
   "cell_type": "markdown",
   "id": "fa3396c4-54d8-437f-a443-a975467508d2",
   "metadata": {},
   "source": [
    "## Game ENV"
   ]
  },
  {
   "cell_type": "code",
   "execution_count": 1,
   "id": "9baa67f2-dee1-462d-acea-8cf6b760c102",
   "metadata": {},
   "outputs": [],
   "source": [
    "import numpy as np\n",
    "import random\n",
    "from collections import Counter\n",
    "\n",
    "# X = '😀' #P1 X\n",
    "# O = '🤖' #P2 O\n",
    "# space = '🗯'\n",
    "\n",
    "_dim = 8\n",
    "_win_point = 5\n",
    "X = 1 #P1 X\n",
    "O = 2 #P2 O\n",
    "space = 0\n",
    "\n",
    "\n",
    "\n",
    "def initBoard():\n",
    "    \n",
    "    board = np.full((_dim, _dim), space, dtype=int) #space 10x10\n",
    "#     board = [\n",
    "#         [0, 0, 0],\n",
    "#         [0, 0, 0],\n",
    "#         [0, 0, 0]\n",
    "#     ]\n",
    "    return board"
   ]
  },
  {
   "cell_type": "code",
   "execution_count": 5,
   "id": "aa625545-0afa-4295-8d66-51c67b0d56a9",
   "metadata": {},
   "outputs": [],
   "source": [
    "def getMoves(board):\n",
    "    moves = []\n",
    "    for i in range(len(board)):\n",
    "        for j in range(len(board[i])):\n",
    "            if board[i][j] == space:\n",
    "                moves.append((i, j))\n",
    "    return moves"
   ]
  },
  {
   "cell_type": "code",
   "execution_count": 6,
   "id": "45d8d74c-8030-4665-9e59-37bf76a775ae",
   "metadata": {},
   "outputs": [],
   "source": [
    "## check\n",
    "board = initBoard()\n",
    "moves = getMoves(board)\n",
    "move = moves[random.randint(0, len(moves) - 1)]"
   ]
  },
  {
   "cell_type": "code",
   "execution_count": null,
   "id": "2f367b24-8e5a-4cc4-b475-4772f9f17a8f",
   "metadata": {},
   "outputs": [],
   "source": []
  },
  {
   "cell_type": "code",
   "execution_count": 7,
   "id": "78f54bce-0723-44e7-a3c0-5f4c86006515",
   "metadata": {},
   "outputs": [],
   "source": [
    "def checkWin(board):\n",
    "    # transposition to check rows, then columns\n",
    "    for newBoard in [board, np.transpose(board)]:\n",
    "        result = checkRows(newBoard)\n",
    "        if result:\n",
    "            return result\n",
    "        \n",
    "    # check Diagonals  \n",
    "    result = checkDiagonals(board)\n",
    "    if result:\n",
    "        return result\n",
    "    \n",
    "    # check draw\n",
    "    if (len(getMoves(board)) == 0):\n",
    "        # It's a draw\n",
    "        return 0\n",
    "    else:\n",
    "        # Still more moves to make\n",
    "        return -1\n"
   ]
  },
  {
   "cell_type": "code",
   "execution_count": 8,
   "id": "25a2c308-144d-4c71-ab09-1df7e8175e17",
   "metadata": {},
   "outputs": [],
   "source": [
    "## \n",
    "def checkRows(board):\n",
    "    for row in board:\n",
    "        for i in range(0, len(row)):\n",
    "            check_list = []\n",
    "            for j in range(0,_win_point):\n",
    "                if i <= (len(board)-_win_point):\n",
    "                    check_list.append(row[i+j])\n",
    "                # end if\n",
    "            # next\n",
    "            \n",
    "            count = Counter(check_list)\n",
    "            if count[O] == _win_point:\n",
    "                return O\n",
    "            if count[X] == _win_point:\n",
    "                return X\n",
    "\n",
    "    return None\n",
    "\n",
    "def checkDiagonals(board):\n",
    "    # right Diagonals \n",
    "    for idx, row in enumerate(board):\n",
    "        if idx <= (len(board)-_win_point):\n",
    "            \n",
    "            for i in range(len(row)):\n",
    "                check_list = []\n",
    "                for j in range(0,_win_point):\n",
    "                    if i <= (len(board)-_win_point):\n",
    "                        if j == 0:\n",
    "                            check_list.append(row[i+j])\n",
    "                        else:\n",
    "                            check_list.append(board[idx+j][i+j])\n",
    "                            \n",
    "                count = Counter(check_list)\n",
    "\n",
    "                if count[O] == _win_point:\n",
    "                    return O\n",
    "                if count[X] == _win_point:\n",
    "                    return X\n",
    "\n",
    "                \n",
    "    # Left Diagonals           \n",
    "    for idx, row in enumerate(board):\n",
    "        if idx <= (len(board)-_win_point):\n",
    "            \n",
    "            for i in range(len(row)):\n",
    "                check_list = []\n",
    "                for j in range(0,_win_point):\n",
    "                    if i >= (len(board)-_win_point-1):\n",
    "                        if j == 0:\n",
    "                            check_list.append(row[i+j])\n",
    "                        else:\n",
    "                            check_list.append(board[idx+j][i-j])\n",
    "                            \n",
    "#                 st.write(check_list)            \n",
    "                count = Counter(check_list)\n",
    "\n",
    "                if count[O] == _win_point:\n",
    "                    return O\n",
    "                if count[X] == _win_point:\n",
    "                    return X\n",
    "\n",
    "                \n",
    "                \n",
    "                \n",
    "    return None"
   ]
  },
  {
   "cell_type": "code",
   "execution_count": 9,
   "id": "5bf6638c-1015-4929-a147-babab01d7a44",
   "metadata": {},
   "outputs": [],
   "source": [
    "def printBoard(board):\n",
    "    for i in range(len(board)):\n",
    "        for j in range(len(board[i])):\n",
    "            mark = space\n",
    "            if board[i][j] == X:\n",
    "                mark = '😀'\n",
    "            elif board[i][j] == O:\n",
    "                mark = '🤖'\n",
    "            if (j == len(board[i]) - 1):\n",
    "                print(mark)\n",
    "            else:\n",
    "                print(str(mark) + \"|\", end='')\n",
    "        if (i < len(board) - 1):\n",
    "            print(\"-----\")\n",
    "            \n",
    "            \n",
    "            \n"
   ]
  },
  {
   "cell_type": "code",
   "execution_count": 10,
   "id": "3867e126-2ab8-44fd-be18-0969dba2126f",
   "metadata": {},
   "outputs": [
    {
     "name": "stdout",
     "output_type": "stream",
     "text": [
      "[[0 0 0 0 0 0 0 0]\n",
      " [0 0 0 0 0 0 0 0]\n",
      " [0 0 0 0 0 0 0 0]\n",
      " [0 0 0 0 0 0 0 0]\n",
      " [0 0 0 0 0 0 0 0]\n",
      " [0 0 0 0 0 0 0 0]\n",
      " [0 0 0 0 0 0 0 0]\n",
      " [0 0 0 0 0 0 0 0]]\n",
      "[(0, 0), (0, 1), (0, 2), (0, 3), (0, 4), (0, 5), (0, 6), (0, 7), (1, 0), (1, 1), (1, 2), (1, 3), (1, 4), (1, 5), (1, 6), (1, 7), (2, 0), (2, 1), (2, 2), (2, 3), (2, 4), (2, 5), (2, 6), (2, 7), (3, 0), (3, 1), (3, 2), (3, 3), (3, 4), (3, 5), (3, 6), (3, 7), (4, 0), (4, 1), (4, 2), (4, 3), (4, 4), (4, 5), (4, 6), (4, 7), (5, 0), (5, 1), (5, 2), (5, 3), (5, 4), (5, 5), (5, 6), (5, 7), (6, 0), (6, 1), (6, 2), (6, 3), (6, 4), (6, 5), (6, 6), (6, 7), (7, 0), (7, 1), (7, 2), (7, 3), (7, 4), (7, 5), (7, 6), (7, 7)]\n",
      "-1\n"
     ]
    }
   ],
   "source": [
    "b = initBoard()\n",
    "print(b)\n",
    "print(getMoves(b))\n",
    "print(checkWin(b))"
   ]
  },
  {
   "cell_type": "code",
   "execution_count": 11,
   "id": "58601b84-0ab1-4783-acce-71057232f2c0",
   "metadata": {},
   "outputs": [
    {
     "name": "stdout",
     "output_type": "stream",
     "text": [
      "0|0|0|0|0|0|0|0\n",
      "-----\n",
      "0|0|0|0|0|0|0|0\n",
      "-----\n",
      "0|0|0|0|0|0|0|0\n",
      "-----\n",
      "0|0|😀|😀|😀|0|0|0\n",
      "-----\n",
      "0|0|0|0|0|0|0|0\n",
      "-----\n",
      "0|0|0|0|0|0|0|0\n",
      "-----\n",
      "0|0|0|0|0|0|0|0\n",
      "-----\n",
      "0|0|0|0|0|0|0|0\n",
      "-1\n"
     ]
    }
   ],
   "source": [
    "b = initBoard()\n",
    "# b[0][0] = X\n",
    "# b[1][1] = X\n",
    "# b[2][2] = X\n",
    "\n",
    "# b[1][2] = O\n",
    "# b[2][3] = O\n",
    "# b[3][4] = O\n",
    "\n",
    "# b[0][4] = X\n",
    "# b[1][3] = X\n",
    "# b[2][2] = X\n",
    "\n",
    "# b[0][0] = X\n",
    "# b[0][1] = X\n",
    "# b[0][2] = X\n",
    "\n",
    "# b[4][0] = X\n",
    "# b[3][0] = X\n",
    "# b[2][0] = X\n",
    "\n",
    "b[3][2] = X\n",
    "b[3][3] = X\n",
    "b[3][4] = X\n",
    "\n",
    "\n",
    "\n",
    "printBoard(b)\n",
    "print(checkWin(b))\n",
    "# OUTPUT"
   ]
  },
  {
   "cell_type": "code",
   "execution_count": null,
   "id": "b44e44b6-7861-45de-af84-646d356041c5",
   "metadata": {},
   "outputs": [],
   "source": []
  },
  {
   "cell_type": "code",
   "execution_count": null,
   "id": "bb82f7f4-3bce-4c0d-ae8a-18007fe701b6",
   "metadata": {},
   "outputs": [],
   "source": []
  },
  {
   "cell_type": "code",
   "execution_count": 12,
   "id": "5b0707ad-afd8-4f4f-9480-e42b73255bc6",
   "metadata": {},
   "outputs": [],
   "source": [
    "# 1 = X, 2 = O\n",
    "\n",
    "def simulateGame(p1=None, p2=None, rnd=0):\n",
    "    history = []\n",
    "    board = initBoard()\n",
    "    playerToMove = X\n",
    "    \n",
    "    while checkWin(board) == -1:\n",
    "        \n",
    "        # Chose a move (random or use a player model if provided)\n",
    "        move = None\n",
    "        if playerToMove == X and p1 != None:\n",
    "            move = bestMove(board, p1, playerToMove, rnd)\n",
    "        elif playerToMove == O and p2 != None:\n",
    "            move = bestMove(board, p2, playerToMove, rnd)\n",
    "        else:\n",
    "            moves = getMoves(board)\n",
    "            move = moves[random.randint(0, len(moves) - 1)]\n",
    "        \n",
    "        # Make the move\n",
    "        board[move[0]][move[1]] = playerToMove\n",
    "        \n",
    "        # Add the move to the history\n",
    "        history.append((playerToMove, move))\n",
    "        \n",
    "        # Switch the active player\n",
    "        playerToMove = X if playerToMove == O else O\n",
    "        \n",
    "    return history"
   ]
  },
  {
   "cell_type": "code",
   "execution_count": 13,
   "id": "a129589b-b58c-4a4f-a68c-9a83b6bad7d0",
   "metadata": {},
   "outputs": [
    {
     "name": "stdout",
     "output_type": "stream",
     "text": [
      "[(1, (0, 7)), (2, (1, 7)), (1, (3, 2)), (2, (6, 7)), (1, (3, 7)), (2, (4, 1)), (1, (5, 6)), (2, (0, 2)), (1, (6, 4)), (2, (0, 3)), (1, (1, 6)), (2, (6, 5)), (1, (7, 4)), (2, (3, 4)), (1, (4, 2)), (2, (1, 4)), (1, (0, 0)), (2, (3, 5)), (1, (1, 0)), (2, (0, 1)), (1, (7, 1)), (2, (2, 2)), (1, (2, 5)), (2, (5, 4)), (1, (5, 0)), (2, (7, 5)), (1, (0, 4)), (2, (7, 0)), (1, (2, 1)), (2, (1, 2)), (1, (7, 2)), (2, (4, 7)), (1, (6, 1)), (2, (4, 6)), (1, (4, 4)), (2, (5, 5)), (1, (1, 3)), (2, (2, 4)), (1, (4, 3)), (2, (5, 7)), (1, (2, 0)), (2, (0, 5)), (1, (7, 3)), (2, (4, 5))]\n"
     ]
    }
   ],
   "source": [
    "history = simulateGame()\n",
    "print(history)"
   ]
  },
  {
   "cell_type": "code",
   "execution_count": 14,
   "id": "b02e5734-1dfa-43d9-abfb-8fb55ace2e78",
   "metadata": {},
   "outputs": [],
   "source": [
    "def movesToBoard(moves):\n",
    "    board = initBoard()\n",
    "    for move in moves:\n",
    "        player = move[0]\n",
    "        coords = move[1]\n",
    "        board[coords[0]][coords[1]] = player\n",
    "    return board"
   ]
  },
  {
   "cell_type": "code",
   "execution_count": 15,
   "id": "af1ede72-6374-4eee-a518-fbcb6c35e106",
   "metadata": {},
   "outputs": [
    {
     "name": "stdout",
     "output_type": "stream",
     "text": [
      "😀|🤖|🤖|🤖|😀|🤖|0|😀\n",
      "-----\n",
      "😀|0|🤖|😀|🤖|0|😀|🤖\n",
      "-----\n",
      "😀|😀|🤖|0|🤖|😀|0|0\n",
      "-----\n",
      "0|0|😀|0|🤖|🤖|0|😀\n",
      "-----\n",
      "0|🤖|😀|😀|😀|🤖|🤖|🤖\n",
      "-----\n",
      "😀|0|0|0|🤖|🤖|😀|🤖\n",
      "-----\n",
      "0|😀|0|0|😀|🤖|0|🤖\n",
      "-----\n",
      "🤖|😀|😀|😀|😀|🤖|0|0\n",
      "2\n"
     ]
    }
   ],
   "source": [
    "board = movesToBoard(history)\n",
    "printBoard(board)\n",
    "print(checkWin(board))"
   ]
  },
  {
   "cell_type": "code",
   "execution_count": 16,
   "id": "0bfdd429-650d-4389-9936-beacedf6215f",
   "metadata": {},
   "outputs": [
    {
     "name": "stderr",
     "output_type": "stream",
     "text": [
      " 55%|███████████████████████████████████████████▎                                  | 2774/5000 [01:40<01:20, 27.66it/s]\n"
     ]
    },
    {
     "ename": "KeyboardInterrupt",
     "evalue": "",
     "output_type": "error",
     "traceback": [
      "\u001b[1;31m---------------------------------------------------------------------------\u001b[0m",
      "\u001b[1;31mKeyboardInterrupt\u001b[0m                         Traceback (most recent call last)",
      "\u001b[1;32m~\\AppData\\Local\\Temp/ipykernel_20228/2055094275.py\u001b[0m in \u001b[0;36m<module>\u001b[1;34m\u001b[0m\n\u001b[0;32m      3\u001b[0m \u001b[0mgames\u001b[0m \u001b[1;33m=\u001b[0m \u001b[1;33m[\u001b[0m\u001b[1;33m]\u001b[0m\u001b[1;33m\u001b[0m\u001b[1;33m\u001b[0m\u001b[0m\n\u001b[0;32m      4\u001b[0m \u001b[1;32mfor\u001b[0m \u001b[0m_\u001b[0m \u001b[1;32min\u001b[0m \u001b[0mtqdm\u001b[0m\u001b[1;33m(\u001b[0m\u001b[0mrange\u001b[0m\u001b[1;33m(\u001b[0m\u001b[1;36m5000\u001b[0m\u001b[1;33m)\u001b[0m\u001b[1;33m)\u001b[0m\u001b[1;33m:\u001b[0m\u001b[1;33m\u001b[0m\u001b[1;33m\u001b[0m\u001b[0m\n\u001b[1;32m----> 5\u001b[1;33m     \u001b[0mgames\u001b[0m\u001b[1;33m.\u001b[0m\u001b[0mappend\u001b[0m\u001b[1;33m(\u001b[0m\u001b[0msimulateGame\u001b[0m\u001b[1;33m(\u001b[0m\u001b[1;33m)\u001b[0m\u001b[1;33m)\u001b[0m\u001b[1;33m\u001b[0m\u001b[1;33m\u001b[0m\u001b[0m\n\u001b[0m\u001b[0;32m      6\u001b[0m \u001b[1;31m# games = [simulateGame() for _ in range(10000)]\u001b[0m\u001b[1;33m\u001b[0m\u001b[1;33m\u001b[0m\u001b[1;33m\u001b[0m\u001b[0m\n",
      "\u001b[1;32m~\\AppData\\Local\\Temp/ipykernel_20228/1290614978.py\u001b[0m in \u001b[0;36msimulateGame\u001b[1;34m(p1, p2, rnd)\u001b[0m\n\u001b[0;32m      6\u001b[0m     \u001b[0mplayerToMove\u001b[0m \u001b[1;33m=\u001b[0m \u001b[0mX\u001b[0m\u001b[1;33m\u001b[0m\u001b[1;33m\u001b[0m\u001b[0m\n\u001b[0;32m      7\u001b[0m \u001b[1;33m\u001b[0m\u001b[0m\n\u001b[1;32m----> 8\u001b[1;33m     \u001b[1;32mwhile\u001b[0m \u001b[0mcheckWin\u001b[0m\u001b[1;33m(\u001b[0m\u001b[0mboard\u001b[0m\u001b[1;33m)\u001b[0m \u001b[1;33m==\u001b[0m \u001b[1;33m-\u001b[0m\u001b[1;36m1\u001b[0m\u001b[1;33m:\u001b[0m\u001b[1;33m\u001b[0m\u001b[1;33m\u001b[0m\u001b[0m\n\u001b[0m\u001b[0;32m      9\u001b[0m \u001b[1;33m\u001b[0m\u001b[0m\n\u001b[0;32m     10\u001b[0m         \u001b[1;31m# Chose a move (random or use a player model if provided)\u001b[0m\u001b[1;33m\u001b[0m\u001b[1;33m\u001b[0m\u001b[1;33m\u001b[0m\u001b[0m\n",
      "\u001b[1;32m~\\AppData\\Local\\Temp/ipykernel_20228/2926733042.py\u001b[0m in \u001b[0;36mcheckWin\u001b[1;34m(board)\u001b[0m\n\u001b[0;32m      2\u001b[0m     \u001b[1;31m# transposition to check rows, then columns\u001b[0m\u001b[1;33m\u001b[0m\u001b[1;33m\u001b[0m\u001b[1;33m\u001b[0m\u001b[0m\n\u001b[0;32m      3\u001b[0m     \u001b[1;32mfor\u001b[0m \u001b[0mnewBoard\u001b[0m \u001b[1;32min\u001b[0m \u001b[1;33m[\u001b[0m\u001b[0mboard\u001b[0m\u001b[1;33m,\u001b[0m \u001b[0mnp\u001b[0m\u001b[1;33m.\u001b[0m\u001b[0mtranspose\u001b[0m\u001b[1;33m(\u001b[0m\u001b[0mboard\u001b[0m\u001b[1;33m)\u001b[0m\u001b[1;33m]\u001b[0m\u001b[1;33m:\u001b[0m\u001b[1;33m\u001b[0m\u001b[1;33m\u001b[0m\u001b[0m\n\u001b[1;32m----> 4\u001b[1;33m         \u001b[0mresult\u001b[0m \u001b[1;33m=\u001b[0m \u001b[0mcheckRows\u001b[0m\u001b[1;33m(\u001b[0m\u001b[0mnewBoard\u001b[0m\u001b[1;33m)\u001b[0m\u001b[1;33m\u001b[0m\u001b[1;33m\u001b[0m\u001b[0m\n\u001b[0m\u001b[0;32m      5\u001b[0m         \u001b[1;32mif\u001b[0m \u001b[0mresult\u001b[0m\u001b[1;33m:\u001b[0m\u001b[1;33m\u001b[0m\u001b[1;33m\u001b[0m\u001b[0m\n\u001b[0;32m      6\u001b[0m             \u001b[1;32mreturn\u001b[0m \u001b[0mresult\u001b[0m\u001b[1;33m\u001b[0m\u001b[1;33m\u001b[0m\u001b[0m\n",
      "\u001b[1;32m~\\AppData\\Local\\Temp/ipykernel_20228/1917151550.py\u001b[0m in \u001b[0;36mcheckRows\u001b[1;34m(board)\u001b[0m\n\u001b[0;32m     10\u001b[0m             \u001b[1;31m# next\u001b[0m\u001b[1;33m\u001b[0m\u001b[1;33m\u001b[0m\u001b[1;33m\u001b[0m\u001b[0m\n\u001b[0;32m     11\u001b[0m \u001b[1;33m\u001b[0m\u001b[0m\n\u001b[1;32m---> 12\u001b[1;33m             \u001b[0mcount\u001b[0m \u001b[1;33m=\u001b[0m \u001b[0mCounter\u001b[0m\u001b[1;33m(\u001b[0m\u001b[0mcheck_list\u001b[0m\u001b[1;33m)\u001b[0m\u001b[1;33m\u001b[0m\u001b[1;33m\u001b[0m\u001b[0m\n\u001b[0m\u001b[0;32m     13\u001b[0m             \u001b[1;32mif\u001b[0m \u001b[0mcount\u001b[0m\u001b[1;33m[\u001b[0m\u001b[0mO\u001b[0m\u001b[1;33m]\u001b[0m \u001b[1;33m==\u001b[0m \u001b[0m_win_point\u001b[0m\u001b[1;33m:\u001b[0m\u001b[1;33m\u001b[0m\u001b[1;33m\u001b[0m\u001b[0m\n\u001b[0;32m     14\u001b[0m                 \u001b[1;32mreturn\u001b[0m \u001b[0mO\u001b[0m\u001b[1;33m\u001b[0m\u001b[1;33m\u001b[0m\u001b[0m\n",
      "\u001b[1;32mD:\\Miniconda\\envs\\interface\\lib\\collections\\__init__.py\u001b[0m in \u001b[0;36m__init__\u001b[1;34m(*args, **kwds)\u001b[0m\n\u001b[0;32m    566\u001b[0m             \u001b[1;32mraise\u001b[0m \u001b[0mTypeError\u001b[0m\u001b[1;33m(\u001b[0m\u001b[1;34m'expected at most 1 arguments, got %d'\u001b[0m \u001b[1;33m%\u001b[0m \u001b[0mlen\u001b[0m\u001b[1;33m(\u001b[0m\u001b[0margs\u001b[0m\u001b[1;33m)\u001b[0m\u001b[1;33m)\u001b[0m\u001b[1;33m\u001b[0m\u001b[1;33m\u001b[0m\u001b[0m\n\u001b[0;32m    567\u001b[0m         \u001b[0msuper\u001b[0m\u001b[1;33m(\u001b[0m\u001b[0mCounter\u001b[0m\u001b[1;33m,\u001b[0m \u001b[0mself\u001b[0m\u001b[1;33m)\u001b[0m\u001b[1;33m.\u001b[0m\u001b[0m__init__\u001b[0m\u001b[1;33m(\u001b[0m\u001b[1;33m)\u001b[0m\u001b[1;33m\u001b[0m\u001b[1;33m\u001b[0m\u001b[0m\n\u001b[1;32m--> 568\u001b[1;33m         \u001b[0mself\u001b[0m\u001b[1;33m.\u001b[0m\u001b[0mupdate\u001b[0m\u001b[1;33m(\u001b[0m\u001b[1;33m*\u001b[0m\u001b[0margs\u001b[0m\u001b[1;33m,\u001b[0m \u001b[1;33m**\u001b[0m\u001b[0mkwds\u001b[0m\u001b[1;33m)\u001b[0m\u001b[1;33m\u001b[0m\u001b[1;33m\u001b[0m\u001b[0m\n\u001b[0m\u001b[0;32m    569\u001b[0m \u001b[1;33m\u001b[0m\u001b[0m\n\u001b[0;32m    570\u001b[0m     \u001b[1;32mdef\u001b[0m \u001b[0m__missing__\u001b[0m\u001b[1;33m(\u001b[0m\u001b[0mself\u001b[0m\u001b[1;33m,\u001b[0m \u001b[0mkey\u001b[0m\u001b[1;33m)\u001b[0m\u001b[1;33m:\u001b[0m\u001b[1;33m\u001b[0m\u001b[1;33m\u001b[0m\u001b[0m\n",
      "\u001b[1;32mD:\\Miniconda\\envs\\interface\\lib\\collections\\__init__.py\u001b[0m in \u001b[0;36mupdate\u001b[1;34m(*args, **kwds)\u001b[0m\n\u001b[0;32m    617\u001b[0m             'Counter.fromkeys() is undefined.  Use Counter(iterable) instead.')\n\u001b[0;32m    618\u001b[0m \u001b[1;33m\u001b[0m\u001b[0m\n\u001b[1;32m--> 619\u001b[1;33m     \u001b[1;32mdef\u001b[0m \u001b[0mupdate\u001b[0m\u001b[1;33m(\u001b[0m\u001b[1;33m*\u001b[0m\u001b[0margs\u001b[0m\u001b[1;33m,\u001b[0m \u001b[1;33m**\u001b[0m\u001b[0mkwds\u001b[0m\u001b[1;33m)\u001b[0m\u001b[1;33m:\u001b[0m\u001b[1;33m\u001b[0m\u001b[1;33m\u001b[0m\u001b[0m\n\u001b[0m\u001b[0;32m    620\u001b[0m         '''Like dict.update() but add counts instead of replacing them.\n\u001b[0;32m    621\u001b[0m \u001b[1;33m\u001b[0m\u001b[0m\n",
      "\u001b[1;31mKeyboardInterrupt\u001b[0m: "
     ]
    }
   ],
   "source": [
    "## Start simulator\n",
    "from tqdm import tqdm\n",
    "games = []\n",
    "for _ in tqdm(range(5000)):\n",
    "    games.append(simulateGame())\n",
    "# games = [simulateGame() for _ in range(10000)]"
   ]
  },
  {
   "cell_type": "code",
   "execution_count": null,
   "id": "f7d1ab0d-9b72-4eb1-979b-81ee34407647",
   "metadata": {},
   "outputs": [],
   "source": [
    "## check status\n",
    "def gameStats(games, player=X):\n",
    "    stats = {\"win\": 0, \"loss\": 0, \"draw\": 0}\n",
    "    for game in games:\n",
    "        result = checkWin(movesToBoard(game))\n",
    "        if result == -1:\n",
    "            continue\n",
    "        elif result == player:\n",
    "            stats[\"win\"] += 1\n",
    "        elif result == 0:\n",
    "            stats[\"draw\"] += 1\n",
    "        else:\n",
    "            stats[\"loss\"] += 1\n",
    "    \n",
    "    winPct = stats[\"win\"] / len(games) * 100\n",
    "    lossPct = stats[\"loss\"] / len(games) * 100\n",
    "    drawPct = stats[\"draw\"] / len(games) * 100\n",
    "\n",
    "    print(\"Results for player:\", player)\n",
    "    print(\"Wins: %d (%.1f%%)\" % (stats[\"win\"], winPct))\n",
    "    print(\"Loss: %d (%.1f%%)\" % (stats[\"loss\"], lossPct))\n",
    "    print(\"Draw: %d (%.1f%%)\" % (stats[\"draw\"], drawPct))"
   ]
  },
  {
   "cell_type": "code",
   "execution_count": null,
   "id": "9a0fefdf-0ad6-486a-9f18-c9b1372d9225",
   "metadata": {},
   "outputs": [],
   "source": [
    "gameStats(games)\n",
    "print()\n",
    "gameStats(games, player=O)"
   ]
  },
  {
   "cell_type": "code",
   "execution_count": 400,
   "id": "8757a42a-61cd-404a-b255-7e71f95d8d74",
   "metadata": {},
   "outputs": [
    {
     "name": "stderr",
     "output_type": "stream",
     "text": [
      "D:\\Miniconda\\envs\\interface\\lib\\site-packages\\ipykernel_launcher.py:3: VisibleDeprecationWarning: Creating an ndarray from ragged nested sequences (which is a list-or-tuple of lists-or-tuples-or ndarrays with different lengths or shapes) is deprecated. If you meant to do this, you must specify 'dtype=object' when creating the ndarray\n",
      "  This is separate from the ipykernel package so we can avoid doing imports until\n"
     ]
    }
   ],
   "source": [
    "import numpy as np\n",
    "#save\n",
    "np.array(games).dump(open('games.npy', 'wb'))\n",
    "#load\n",
    "myArray = np.load(\"games.npy\",allow_pickle=True)\n",
    "myArray = myArray.tolist()"
   ]
  },
  {
   "cell_type": "code",
   "execution_count": null,
   "id": "d3a5ac54-a3c0-4e16-aeda-48c00eb056e0",
   "metadata": {},
   "outputs": [],
   "source": []
  },
  {
   "cell_type": "code",
   "execution_count": 412,
   "id": "f6c6db80-05b6-4d59-ab97-597b6139a79c",
   "metadata": {},
   "outputs": [],
   "source": [
    "# games"
   ]
  },
  {
   "cell_type": "code",
   "execution_count": null,
   "id": "e7a66e1a-8f2a-4d78-9f32-f10b3d3d4653",
   "metadata": {},
   "outputs": [],
   "source": []
  },
  {
   "cell_type": "markdown",
   "id": "a7322a3b-0524-4dcf-a4ac-1f16365c5779",
   "metadata": {},
   "source": [
    "## DNN"
   ]
  },
  {
   "cell_type": "code",
   "execution_count": 394,
   "id": "5b1f2964-7f0d-4e37-9b53-d6cc20577da6",
   "metadata": {},
   "outputs": [],
   "source": [
    "from tensorflow import keras \n",
    "# import keras\n",
    "from keras.models import Sequential\n",
    "from keras.layers import Dense\n",
    "from keras.layers import Dropout\n",
    "from keras.backend import reshape\n",
    "from keras.utils.np_utils import to_categorical\n",
    "def getModel():\n",
    "    numCells = _dim*_dim\n",
    "    outcomes = 3\n",
    "    model = Sequential()\n",
    "    model.add(Dense(200, activation='relu', input_shape=(_dim*_dim, )))\n",
    "    model.add(Dropout(0.2))\n",
    "    model.add(Dense(125, activation='relu'))\n",
    "    model.add(Dense(75, activation='relu'))\n",
    "    model.add(Dropout(0.1))\n",
    "    model.add(Dense(25, activation='relu'))\n",
    "    model.add(Dense(outcomes, activation='softmax'))\n",
    "    model.compile(loss='categorical_crossentropy', optimizer='adam', metrics=['acc'])\n",
    "    return model"
   ]
  },
  {
   "cell_type": "code",
   "execution_count": 395,
   "id": "90addee1-e933-4991-82c6-c4fbbe1cf8ca",
   "metadata": {},
   "outputs": [],
   "source": [
    "# X = '😀' #P1 X\n",
    "# O = '🤖' #P2 O\n",
    "# space = '🗯' #blank space \n",
    "\n",
    "def gamesToWinLossData(games):\n",
    "    X = []\n",
    "    y = []\n",
    "    for game in games:\n",
    "        winner = checkWin(movesToBoard(game))\n",
    "        for move in range(len(game)):\n",
    "            X.append(movesToBoard(game[:(move + 1)]))\n",
    "            y.append(winner)\n",
    "\n",
    "\n",
    "#     y = list(map(lambda item: item.replace('😀','1'), y))\n",
    "#     y = list(map(lambda item: item.replace('🤖','2'), y))\n",
    "    \n",
    "    \n",
    "    \n",
    "    \n",
    "\n",
    "\n",
    "    X = np.array(X).reshape((-1, _dim*_dim))\n",
    "    \n",
    "#     X = np.where(X=='😀',1, X) \n",
    "#     X = np.where(X=='🤖',2, X) \n",
    "#     X = np.where(X=='🗯',0, X)\n",
    "#     X = X.astype(int)\n",
    "    \n",
    "    y = to_categorical(y)\n",
    "    \n",
    "    # Return an appropriate train/test split\n",
    "    trainNum = int(len(X) * 0.8)\n",
    "    return (X[:trainNum], X[trainNum:], y[:trainNum], y[trainNum:])"
   ]
  },
  {
   "cell_type": "code",
   "execution_count": 396,
   "id": "0d668d7d-c1ef-47da-bae5-82e6268c999b",
   "metadata": {},
   "outputs": [],
   "source": [
    "import numpy as np\n",
    "model = getModel()\n",
    "X_train, X_test, y_train, y_test = gamesToWinLossData(games)"
   ]
  },
  {
   "cell_type": "code",
   "execution_count": 397,
   "id": "ee794b29-46a1-4f04-be5b-247a48188477",
   "metadata": {},
   "outputs": [
    {
     "name": "stdout",
     "output_type": "stream",
     "text": [
      "[0 0 0 0 0 0 0 0 0 0 0 0 0 0 0 0 0 0 0 0 0 2 0 0 0 0 0 0 0 0 0 0 0 0 0 0 1\n",
      " 0 0 0 0 0 0 0 0 0 1 0 0 0 0 0 0 0 0 0 0 0 0 0 0 0 0 0] [0. 1. 0.]\n"
     ]
    }
   ],
   "source": [
    "i = 2\n",
    "print(X_train[i],y_train[i])"
   ]
  },
  {
   "cell_type": "code",
   "execution_count": null,
   "id": "70de2025-97e6-4369-80af-bdc69c5f6714",
   "metadata": {},
   "outputs": [],
   "source": []
  },
  {
   "cell_type": "code",
   "execution_count": 398,
   "id": "0ac5e1dc-6c88-4f89-94a0-57ad14457b2f",
   "metadata": {},
   "outputs": [
    {
     "name": "stdout",
     "output_type": "stream",
     "text": [
      "Epoch 1/100\n",
      "1813/1813 [==============================] - 4s 2ms/step - loss: 0.7555 - acc: 0.5505 - val_loss: 0.8534 - val_acc: 0.5044\n",
      "Epoch 2/100\n",
      "1813/1813 [==============================] - 4s 2ms/step - loss: 0.5784 - acc: 0.7025 - val_loss: 0.9991 - val_acc: 0.5002\n",
      "Epoch 3/100\n",
      "1813/1813 [==============================] - 3s 2ms/step - loss: 0.4734 - acc: 0.7695 - val_loss: 1.0407 - val_acc: 0.4975\n",
      "Epoch 4/100\n",
      "1813/1813 [==============================] - 3s 2ms/step - loss: 0.4247 - acc: 0.7968 - val_loss: 1.1544 - val_acc: 0.4918\n",
      "Epoch 5/100\n",
      "1813/1813 [==============================] - 3s 2ms/step - loss: 0.3929 - acc: 0.8143 - val_loss: 1.2191 - val_acc: 0.4948\n",
      "Epoch 6/100\n",
      "1813/1813 [==============================] - 4s 2ms/step - loss: 0.3690 - acc: 0.8275 - val_loss: 1.2183 - val_acc: 0.4986\n",
      "Epoch 7/100\n",
      "1813/1813 [==============================] - 4s 2ms/step - loss: 0.3567 - acc: 0.8332 - val_loss: 1.2861 - val_acc: 0.4869\n",
      "Epoch 8/100\n",
      "1813/1813 [==============================] - 3s 2ms/step - loss: 0.3406 - acc: 0.8404 - val_loss: 1.3068 - val_acc: 0.4826\n",
      "Epoch 9/100\n",
      "1813/1813 [==============================] - 3s 2ms/step - loss: 0.3317 - acc: 0.8441 - val_loss: 1.3013 - val_acc: 0.4934\n",
      "Epoch 10/100\n",
      "1813/1813 [==============================] - 3s 2ms/step - loss: 0.3245 - acc: 0.8496 - val_loss: 1.3675 - val_acc: 0.4921\n",
      "Epoch 11/100\n",
      "1813/1813 [==============================] - 3s 2ms/step - loss: 0.3133 - acc: 0.8549 - val_loss: 1.3984 - val_acc: 0.4861\n",
      "Epoch 12/100\n",
      "1813/1813 [==============================] - 4s 2ms/step - loss: 0.3083 - acc: 0.8588 - val_loss: 1.3734 - val_acc: 0.4935\n",
      "Epoch 13/100\n",
      "1813/1813 [==============================] - 4s 2ms/step - loss: 0.3033 - acc: 0.8617 - val_loss: 1.4110 - val_acc: 0.4906\n",
      "Epoch 14/100\n",
      "1813/1813 [==============================] - 4s 2ms/step - loss: 0.3018 - acc: 0.8597 - val_loss: 1.3513 - val_acc: 0.4921\n",
      "Epoch 15/100\n",
      "1813/1813 [==============================] - 3s 2ms/step - loss: 0.2931 - acc: 0.8641 - val_loss: 1.4306 - val_acc: 0.4951\n",
      "Epoch 16/100\n",
      "1813/1813 [==============================] - 4s 2ms/step - loss: 0.2879 - acc: 0.8679 - val_loss: 1.3914 - val_acc: 0.5042\n",
      "Epoch 17/100\n",
      "1813/1813 [==============================] - 4s 2ms/step - loss: 0.2812 - acc: 0.8717 - val_loss: 1.4332 - val_acc: 0.4975\n",
      "Epoch 18/100\n",
      "1813/1813 [==============================] - 5s 3ms/step - loss: 0.2822 - acc: 0.8694 - val_loss: 1.3553 - val_acc: 0.4972\n",
      "Epoch 19/100\n",
      "1813/1813 [==============================] - 4s 2ms/step - loss: 0.2763 - acc: 0.8737 - val_loss: 1.4568 - val_acc: 0.4964\n",
      "Epoch 20/100\n",
      "1813/1813 [==============================] - 5s 3ms/step - loss: 0.2741 - acc: 0.8735 - val_loss: 1.4828 - val_acc: 0.4948\n",
      "Epoch 21/100\n",
      "1813/1813 [==============================] - 6s 3ms/step - loss: 0.2702 - acc: 0.8769 - val_loss: 1.5181 - val_acc: 0.4973\n",
      "Epoch 22/100\n",
      "1813/1813 [==============================] - 4s 2ms/step - loss: 0.2672 - acc: 0.8765 - val_loss: 1.4268 - val_acc: 0.4937\n",
      "Epoch 23/100\n",
      "1813/1813 [==============================] - 3s 2ms/step - loss: 0.2654 - acc: 0.8774 - val_loss: 1.4683 - val_acc: 0.4958\n",
      "Epoch 24/100\n",
      "1813/1813 [==============================] - 4s 2ms/step - loss: 0.2610 - acc: 0.8790 - val_loss: 1.5530 - val_acc: 0.4934\n",
      "Epoch 25/100\n",
      "1813/1813 [==============================] - 4s 2ms/step - loss: 0.2590 - acc: 0.8825 - val_loss: 1.6174 - val_acc: 0.4914\n",
      "Epoch 26/100\n",
      "1813/1813 [==============================] - 5s 3ms/step - loss: 0.2549 - acc: 0.8833 - val_loss: 1.4883 - val_acc: 0.4928\n",
      "Epoch 27/100\n",
      "1813/1813 [==============================] - 6s 3ms/step - loss: 0.2541 - acc: 0.8833 - val_loss: 1.5198 - val_acc: 0.4930\n",
      "Epoch 28/100\n",
      "1813/1813 [==============================] - 9s 5ms/step - loss: 0.2541 - acc: 0.8840 - val_loss: 1.5228 - val_acc: 0.4932\n",
      "Epoch 29/100\n",
      "1813/1813 [==============================] - 5s 3ms/step - loss: 0.2528 - acc: 0.8852 - val_loss: 1.5440 - val_acc: 0.4934\n",
      "Epoch 30/100\n",
      "1813/1813 [==============================] - 6s 4ms/step - loss: 0.2482 - acc: 0.8876 - val_loss: 1.5418 - val_acc: 0.4929\n",
      "Epoch 31/100\n",
      "1813/1813 [==============================] - 6s 3ms/step - loss: 0.2473 - acc: 0.8869 - val_loss: 1.5916 - val_acc: 0.4936\n",
      "Epoch 32/100\n",
      "1813/1813 [==============================] - 4s 2ms/step - loss: 0.2474 - acc: 0.8875 - val_loss: 1.5340 - val_acc: 0.4974\n",
      "Epoch 33/100\n",
      "1813/1813 [==============================] - 4s 2ms/step - loss: 0.2480 - acc: 0.8877 - val_loss: 1.5242 - val_acc: 0.4899\n",
      "Epoch 34/100\n",
      "1813/1813 [==============================] - 4s 2ms/step - loss: 0.2451 - acc: 0.8886 - val_loss: 1.5430 - val_acc: 0.4918\n",
      "Epoch 35/100\n",
      "1813/1813 [==============================] - 3s 2ms/step - loss: 0.2423 - acc: 0.8887 - val_loss: 1.6396 - val_acc: 0.4902\n",
      "Epoch 36/100\n",
      "1813/1813 [==============================] - 3s 2ms/step - loss: 0.2421 - acc: 0.8902 - val_loss: 1.5785 - val_acc: 0.4877\n",
      "Epoch 37/100\n",
      "1813/1813 [==============================] - 3s 2ms/step - loss: 0.2391 - acc: 0.8907 - val_loss: 1.5837 - val_acc: 0.4896\n",
      "Epoch 38/100\n",
      "1813/1813 [==============================] - 3s 2ms/step - loss: 0.2387 - acc: 0.8920 - val_loss: 1.5076 - val_acc: 0.4901\n",
      "Epoch 39/100\n",
      "1813/1813 [==============================] - 3s 2ms/step - loss: 0.2365 - acc: 0.8924 - val_loss: 1.5875 - val_acc: 0.4958\n",
      "Epoch 40/100\n",
      "1813/1813 [==============================] - 3s 2ms/step - loss: 0.2371 - acc: 0.8928 - val_loss: 1.5567 - val_acc: 0.4897\n",
      "Epoch 41/100\n",
      "1813/1813 [==============================] - 3s 2ms/step - loss: 0.2344 - acc: 0.8937 - val_loss: 1.5884 - val_acc: 0.4952\n",
      "Epoch 42/100\n",
      "1813/1813 [==============================] - 4s 2ms/step - loss: 0.2320 - acc: 0.8933 - val_loss: 1.5893 - val_acc: 0.4986\n",
      "Epoch 43/100\n",
      "1813/1813 [==============================] - 4s 2ms/step - loss: 0.2340 - acc: 0.8935 - val_loss: 1.6312 - val_acc: 0.4972\n",
      "Epoch 44/100\n",
      "1813/1813 [==============================] - 4s 2ms/step - loss: 0.2308 - acc: 0.8953 - val_loss: 1.6154 - val_acc: 0.4969\n",
      "Epoch 45/100\n",
      "1813/1813 [==============================] - 4s 2ms/step - loss: 0.2330 - acc: 0.8936 - val_loss: 1.5765 - val_acc: 0.4908\n",
      "Epoch 46/100\n",
      "1813/1813 [==============================] - 4s 2ms/step - loss: 0.2280 - acc: 0.8965 - val_loss: 1.6087 - val_acc: 0.4937\n",
      "Epoch 47/100\n",
      "1813/1813 [==============================] - 3s 2ms/step - loss: 0.2268 - acc: 0.8962 - val_loss: 1.5587 - val_acc: 0.4977\n",
      "Epoch 48/100\n",
      "1813/1813 [==============================] - 3s 2ms/step - loss: 0.2271 - acc: 0.8973 - val_loss: 1.6073 - val_acc: 0.4953\n",
      "Epoch 49/100\n",
      "1813/1813 [==============================] - 4s 2ms/step - loss: 0.2280 - acc: 0.8973 - val_loss: 1.6196 - val_acc: 0.4978\n",
      "Epoch 50/100\n",
      "1813/1813 [==============================] - 4s 2ms/step - loss: 0.2258 - acc: 0.8977 - val_loss: 1.6275 - val_acc: 0.4973\n",
      "Epoch 51/100\n",
      "1813/1813 [==============================] - 4s 2ms/step - loss: 0.2269 - acc: 0.8985 - val_loss: 1.6284 - val_acc: 0.4977\n",
      "Epoch 52/100\n",
      "1813/1813 [==============================] - 3s 2ms/step - loss: 0.2258 - acc: 0.8979 - val_loss: 1.5708 - val_acc: 0.4975\n",
      "Epoch 53/100\n",
      "1813/1813 [==============================] - 3s 2ms/step - loss: 0.2267 - acc: 0.8972 - val_loss: 1.6294 - val_acc: 0.4998\n",
      "Epoch 54/100\n",
      "1813/1813 [==============================] - 3s 2ms/step - loss: 0.2219 - acc: 0.8993 - val_loss: 1.5673 - val_acc: 0.4954\n",
      "Epoch 55/100\n",
      "1813/1813 [==============================] - 3s 2ms/step - loss: 0.2219 - acc: 0.9000 - val_loss: 1.5688 - val_acc: 0.4974\n",
      "Epoch 56/100\n",
      "1813/1813 [==============================] - 3s 2ms/step - loss: 0.2199 - acc: 0.9010 - val_loss: 1.5764 - val_acc: 0.4924\n",
      "Epoch 57/100\n",
      "1813/1813 [==============================] - 4s 2ms/step - loss: 0.2201 - acc: 0.9009 - val_loss: 1.6110 - val_acc: 0.4947\n",
      "Epoch 58/100\n",
      "1813/1813 [==============================] - 4s 2ms/step - loss: 0.2207 - acc: 0.9000 - val_loss: 1.6354 - val_acc: 0.4936\n",
      "Epoch 59/100\n",
      "1813/1813 [==============================] - 4s 2ms/step - loss: 0.2202 - acc: 0.9001 - val_loss: 1.6073 - val_acc: 0.4946\n",
      "Epoch 60/100\n",
      "1813/1813 [==============================] - 3s 2ms/step - loss: 0.2205 - acc: 0.9006 - val_loss: 1.5973 - val_acc: 0.4952\n",
      "Epoch 61/100\n",
      "1813/1813 [==============================] - 3s 2ms/step - loss: 0.2180 - acc: 0.9013 - val_loss: 1.6373 - val_acc: 0.4969\n",
      "Epoch 62/100\n",
      "1813/1813 [==============================] - 4s 2ms/step - loss: 0.2184 - acc: 0.9022 - val_loss: 1.6695 - val_acc: 0.4943\n",
      "Epoch 63/100\n",
      "1813/1813 [==============================] - 4s 2ms/step - loss: 0.2160 - acc: 0.9016 - val_loss: 1.6116 - val_acc: 0.4959\n",
      "Epoch 64/100\n",
      "1813/1813 [==============================] - 4s 2ms/step - loss: 0.2176 - acc: 0.9010 - val_loss: 1.6186 - val_acc: 0.4970\n",
      "Epoch 65/100\n",
      "1813/1813 [==============================] - 3s 2ms/step - loss: 0.2147 - acc: 0.9031 - val_loss: 1.6543 - val_acc: 0.4922\n",
      "Epoch 66/100\n",
      "1813/1813 [==============================] - 4s 2ms/step - loss: 0.2152 - acc: 0.9018 - val_loss: 1.6550 - val_acc: 0.4918\n",
      "Epoch 67/100\n",
      "1813/1813 [==============================] - 4s 2ms/step - loss: 0.2124 - acc: 0.9034 - val_loss: 1.6343 - val_acc: 0.4957\n",
      "Epoch 68/100\n",
      "1813/1813 [==============================] - 4s 2ms/step - loss: 0.2145 - acc: 0.9025 - val_loss: 1.6792 - val_acc: 0.4981\n",
      "Epoch 69/100\n",
      "1813/1813 [==============================] - 4s 2ms/step - loss: 0.2118 - acc: 0.9043 - val_loss: 1.6856 - val_acc: 0.4956\n",
      "Epoch 70/100\n",
      "1813/1813 [==============================] - 4s 2ms/step - loss: 0.2147 - acc: 0.9026 - val_loss: 1.6806 - val_acc: 0.4954\n",
      "Epoch 71/100\n",
      "1813/1813 [==============================] - 4s 2ms/step - loss: 0.2116 - acc: 0.9038 - val_loss: 1.7186 - val_acc: 0.4922\n",
      "Epoch 72/100\n",
      "1813/1813 [==============================] - 3s 2ms/step - loss: 0.2110 - acc: 0.9046 - val_loss: 1.6938 - val_acc: 0.4927\n",
      "Epoch 73/100\n",
      "1813/1813 [==============================] - 3s 2ms/step - loss: 0.2117 - acc: 0.9051 - val_loss: 1.7624 - val_acc: 0.4963\n",
      "Epoch 74/100\n",
      "1813/1813 [==============================] - 4s 2ms/step - loss: 0.2137 - acc: 0.9034 - val_loss: 1.6177 - val_acc: 0.4917\n",
      "Epoch 75/100\n",
      "1813/1813 [==============================] - 3s 2ms/step - loss: 0.2112 - acc: 0.9047 - val_loss: 1.7344 - val_acc: 0.4936\n",
      "Epoch 76/100\n",
      "1813/1813 [==============================] - 4s 2ms/step - loss: 0.2101 - acc: 0.9043 - val_loss: 1.6170 - val_acc: 0.4931\n",
      "Epoch 77/100\n",
      "1813/1813 [==============================] - 3s 2ms/step - loss: 0.2089 - acc: 0.9057 - val_loss: 1.7088 - val_acc: 0.4938\n",
      "Epoch 78/100\n",
      "1813/1813 [==============================] - 3s 2ms/step - loss: 0.2074 - acc: 0.9077 - val_loss: 1.6761 - val_acc: 0.4941\n",
      "Epoch 79/100\n",
      "1813/1813 [==============================] - 3s 2ms/step - loss: 0.2094 - acc: 0.9049 - val_loss: 1.7127 - val_acc: 0.4925\n",
      "Epoch 80/100\n",
      "1813/1813 [==============================] - 3s 2ms/step - loss: 0.2073 - acc: 0.9071 - val_loss: 1.7118 - val_acc: 0.4971\n",
      "Epoch 81/100\n",
      "1813/1813 [==============================] - 4s 2ms/step - loss: 0.2100 - acc: 0.9057 - val_loss: 1.6617 - val_acc: 0.4905\n",
      "Epoch 82/100\n",
      "1813/1813 [==============================] - 3s 2ms/step - loss: 0.2076 - acc: 0.9067 - val_loss: 1.7341 - val_acc: 0.4932\n",
      "Epoch 83/100\n",
      "1813/1813 [==============================] - 4s 2ms/step - loss: 0.2083 - acc: 0.9070 - val_loss: 1.8055 - val_acc: 0.4936\n",
      "Epoch 84/100\n",
      "1813/1813 [==============================] - 4s 2ms/step - loss: 0.2079 - acc: 0.9061 - val_loss: 1.6880 - val_acc: 0.4954\n",
      "Epoch 85/100\n",
      "1813/1813 [==============================] - 4s 2ms/step - loss: 0.2076 - acc: 0.9063 - val_loss: 1.7225 - val_acc: 0.4939\n",
      "Epoch 86/100\n",
      "1813/1813 [==============================] - 4s 2ms/step - loss: 0.2074 - acc: 0.9074 - val_loss: 1.6726 - val_acc: 0.4965\n",
      "Epoch 87/100\n",
      "1813/1813 [==============================] - 3s 2ms/step - loss: 0.2044 - acc: 0.9083 - val_loss: 1.7072 - val_acc: 0.4952\n",
      "Epoch 88/100\n",
      "1813/1813 [==============================] - 4s 2ms/step - loss: 0.2070 - acc: 0.9078 - val_loss: 1.6583 - val_acc: 0.4914\n",
      "Epoch 89/100\n",
      "1813/1813 [==============================] - 3s 2ms/step - loss: 0.2071 - acc: 0.9062 - val_loss: 1.7218 - val_acc: 0.4903\n",
      "Epoch 90/100\n",
      "1813/1813 [==============================] - 4s 2ms/step - loss: 0.2051 - acc: 0.9075 - val_loss: 1.7240 - val_acc: 0.4939\n",
      "Epoch 91/100\n",
      "1813/1813 [==============================] - 4s 2ms/step - loss: 0.2053 - acc: 0.9087 - val_loss: 1.6769 - val_acc: 0.4929\n",
      "Epoch 92/100\n",
      "1813/1813 [==============================] - 3s 2ms/step - loss: 0.2042 - acc: 0.9085 - val_loss: 1.7298 - val_acc: 0.4940\n",
      "Epoch 93/100\n",
      "1813/1813 [==============================] - 4s 2ms/step - loss: 0.2031 - acc: 0.9078 - val_loss: 1.7152 - val_acc: 0.4924\n",
      "Epoch 94/100\n",
      "1813/1813 [==============================] - 4s 2ms/step - loss: 0.2078 - acc: 0.9060 - val_loss: 1.6680 - val_acc: 0.4933\n",
      "Epoch 95/100\n",
      "1813/1813 [==============================] - 4s 2ms/step - loss: 0.2014 - acc: 0.9085 - val_loss: 1.7168 - val_acc: 0.4893\n",
      "Epoch 96/100\n",
      "1813/1813 [==============================] - 4s 2ms/step - loss: 0.2038 - acc: 0.9083 - val_loss: 1.7082 - val_acc: 0.4943\n",
      "Epoch 97/100\n",
      "1813/1813 [==============================] - 4s 2ms/step - loss: 0.2046 - acc: 0.9072 - val_loss: 1.7832 - val_acc: 0.4876\n",
      "Epoch 98/100\n",
      "1813/1813 [==============================] - 4s 2ms/step - loss: 0.2010 - acc: 0.9095 - val_loss: 1.6705 - val_acc: 0.4925\n",
      "Epoch 99/100\n",
      "1813/1813 [==============================] - 4s 2ms/step - loss: 0.2024 - acc: 0.9088 - val_loss: 1.7019 - val_acc: 0.4920\n",
      "Epoch 100/100\n",
      "1813/1813 [==============================] - 4s 2ms/step - loss: 0.2029 - acc: 0.9095 - val_loss: 1.6656 - val_acc: 0.4949\n"
     ]
    }
   ],
   "source": [
    "import numpy as np\n",
    "model = getModel()\n",
    "X_train, X_test, y_train, y_test = gamesToWinLossData(games)\n",
    "history = model.fit(X_train, y_train, validation_data=(X_test, y_test), epochs=100, batch_size=100)"
   ]
  },
  {
   "cell_type": "code",
   "execution_count": 413,
   "id": "88fb87d8-135a-4570-829b-5baa9c08ba69",
   "metadata": {},
   "outputs": [],
   "source": [
    "def bestMove(board, model, player, rnd=0):\n",
    "    scores = []\n",
    "    moves = getMoves(board)\n",
    "    \n",
    "    # Make predictions for each possible move\n",
    "    for i in range(len(moves)):\n",
    "        future = np.array(board)\n",
    "        future[moves[i][0]][moves[i][1]] = player\n",
    "        prediction = model.predict(future.reshape((-1, _dim*_dim)))[0]\n",
    "        if player == 1:\n",
    "            winPrediction = prediction[1]\n",
    "            lossPrediction = prediction[2]\n",
    "        else:\n",
    "            winPrediction = prediction[2]\n",
    "            lossPrediction = prediction[1]\n",
    "        drawPrediction = prediction[0]\n",
    "        if winPrediction - lossPrediction > 0:\n",
    "            scores.append(winPrediction - lossPrediction)\n",
    "        else:\n",
    "            scores.append(drawPrediction - lossPrediction)\n",
    "\n",
    "    # Choose the best move with a random factor\n",
    "    bestMoves = np.flip(np.argsort(scores))\n",
    "    for i in range(len(bestMoves)):\n",
    "        if random.random() * rnd < 0.5:\n",
    "            return moves[bestMoves[i]]\n",
    "\n",
    "    # Choose a move completely at random\n",
    "    return moves[random.randint(0, len(moves) - 1)]"
   ]
  },
  {
   "cell_type": "code",
   "execution_count": 414,
   "id": "1cb0ed10-d965-44f5-8417-3ee1e1623abd",
   "metadata": {},
   "outputs": [
    {
     "name": "stderr",
     "output_type": "stream",
     "text": [
      " 43%|█████████████████████████████████▏                                           | 431/1000 [56:08<1:14:07,  7.82s/it]\n",
      "  6%|████▊                                                                         | 62/1000 [23:55<6:12:05, 23.80s/it]"
     ]
    },
    {
     "ename": "KeyboardInterrupt",
     "evalue": "",
     "output_type": "error",
     "traceback": [
      "\u001b[1;31m---------------------------------------------------------------------------\u001b[0m",
      "\u001b[1;31mKeyboardInterrupt\u001b[0m                         Traceback (most recent call last)",
      "\u001b[1;32m~\\AppData\\Local\\Temp/ipykernel_13556/2784212019.py\u001b[0m in \u001b[0;36m<module>\u001b[1;34m\u001b[0m\n\u001b[0;32m      1\u001b[0m \u001b[1;32mfrom\u001b[0m \u001b[0mtqdm\u001b[0m \u001b[1;32mimport\u001b[0m \u001b[0mtqdm\u001b[0m\u001b[1;33m\u001b[0m\u001b[1;33m\u001b[0m\u001b[0m\n\u001b[1;32m----> 2\u001b[1;33m \u001b[0mgames2\u001b[0m \u001b[1;33m=\u001b[0m \u001b[1;33m[\u001b[0m\u001b[0msimulateGame\u001b[0m\u001b[1;33m(\u001b[0m\u001b[0mp1\u001b[0m\u001b[1;33m=\u001b[0m\u001b[0mmodel\u001b[0m\u001b[1;33m)\u001b[0m \u001b[1;32mfor\u001b[0m \u001b[0m_\u001b[0m \u001b[1;32min\u001b[0m \u001b[0mtqdm\u001b[0m\u001b[1;33m(\u001b[0m\u001b[0mrange\u001b[0m\u001b[1;33m(\u001b[0m\u001b[1;36m1000\u001b[0m\u001b[1;33m)\u001b[0m\u001b[1;33m)\u001b[0m\u001b[1;33m]\u001b[0m\u001b[1;33m\u001b[0m\u001b[1;33m\u001b[0m\u001b[0m\n\u001b[0m",
      "\u001b[1;32m~\\AppData\\Local\\Temp/ipykernel_13556/2784212019.py\u001b[0m in \u001b[0;36m<listcomp>\u001b[1;34m(.0)\u001b[0m\n\u001b[0;32m      1\u001b[0m \u001b[1;32mfrom\u001b[0m \u001b[0mtqdm\u001b[0m \u001b[1;32mimport\u001b[0m \u001b[0mtqdm\u001b[0m\u001b[1;33m\u001b[0m\u001b[1;33m\u001b[0m\u001b[0m\n\u001b[1;32m----> 2\u001b[1;33m \u001b[0mgames2\u001b[0m \u001b[1;33m=\u001b[0m \u001b[1;33m[\u001b[0m\u001b[0msimulateGame\u001b[0m\u001b[1;33m(\u001b[0m\u001b[0mp1\u001b[0m\u001b[1;33m=\u001b[0m\u001b[0mmodel\u001b[0m\u001b[1;33m)\u001b[0m \u001b[1;32mfor\u001b[0m \u001b[0m_\u001b[0m \u001b[1;32min\u001b[0m \u001b[0mtqdm\u001b[0m\u001b[1;33m(\u001b[0m\u001b[0mrange\u001b[0m\u001b[1;33m(\u001b[0m\u001b[1;36m1000\u001b[0m\u001b[1;33m)\u001b[0m\u001b[1;33m)\u001b[0m\u001b[1;33m]\u001b[0m\u001b[1;33m\u001b[0m\u001b[1;33m\u001b[0m\u001b[0m\n\u001b[0m",
      "\u001b[1;32m~\\AppData\\Local\\Temp/ipykernel_13556/1290614978.py\u001b[0m in \u001b[0;36msimulateGame\u001b[1;34m(p1, p2, rnd)\u001b[0m\n\u001b[0;32m     11\u001b[0m         \u001b[0mmove\u001b[0m \u001b[1;33m=\u001b[0m \u001b[1;32mNone\u001b[0m\u001b[1;33m\u001b[0m\u001b[1;33m\u001b[0m\u001b[0m\n\u001b[0;32m     12\u001b[0m         \u001b[1;32mif\u001b[0m \u001b[0mplayerToMove\u001b[0m \u001b[1;33m==\u001b[0m \u001b[0mX\u001b[0m \u001b[1;32mand\u001b[0m \u001b[0mp1\u001b[0m \u001b[1;33m!=\u001b[0m \u001b[1;32mNone\u001b[0m\u001b[1;33m:\u001b[0m\u001b[1;33m\u001b[0m\u001b[1;33m\u001b[0m\u001b[0m\n\u001b[1;32m---> 13\u001b[1;33m             \u001b[0mmove\u001b[0m \u001b[1;33m=\u001b[0m \u001b[0mbestMove\u001b[0m\u001b[1;33m(\u001b[0m\u001b[0mboard\u001b[0m\u001b[1;33m,\u001b[0m \u001b[0mp1\u001b[0m\u001b[1;33m,\u001b[0m \u001b[0mplayerToMove\u001b[0m\u001b[1;33m,\u001b[0m \u001b[0mrnd\u001b[0m\u001b[1;33m)\u001b[0m\u001b[1;33m\u001b[0m\u001b[1;33m\u001b[0m\u001b[0m\n\u001b[0m\u001b[0;32m     14\u001b[0m         \u001b[1;32melif\u001b[0m \u001b[0mplayerToMove\u001b[0m \u001b[1;33m==\u001b[0m \u001b[0mO\u001b[0m \u001b[1;32mand\u001b[0m \u001b[0mp2\u001b[0m \u001b[1;33m!=\u001b[0m \u001b[1;32mNone\u001b[0m\u001b[1;33m:\u001b[0m\u001b[1;33m\u001b[0m\u001b[1;33m\u001b[0m\u001b[0m\n\u001b[0;32m     15\u001b[0m             \u001b[0mmove\u001b[0m \u001b[1;33m=\u001b[0m \u001b[0mbestMove\u001b[0m\u001b[1;33m(\u001b[0m\u001b[0mboard\u001b[0m\u001b[1;33m,\u001b[0m \u001b[0mp2\u001b[0m\u001b[1;33m,\u001b[0m \u001b[0mplayerToMove\u001b[0m\u001b[1;33m,\u001b[0m \u001b[0mrnd\u001b[0m\u001b[1;33m)\u001b[0m\u001b[1;33m\u001b[0m\u001b[1;33m\u001b[0m\u001b[0m\n",
      "\u001b[1;32m~\\AppData\\Local\\Temp/ipykernel_13556/4023516009.py\u001b[0m in \u001b[0;36mbestMove\u001b[1;34m(board, model, player, rnd)\u001b[0m\n\u001b[0;32m      7\u001b[0m         \u001b[0mfuture\u001b[0m \u001b[1;33m=\u001b[0m \u001b[0mnp\u001b[0m\u001b[1;33m.\u001b[0m\u001b[0marray\u001b[0m\u001b[1;33m(\u001b[0m\u001b[0mboard\u001b[0m\u001b[1;33m)\u001b[0m\u001b[1;33m\u001b[0m\u001b[1;33m\u001b[0m\u001b[0m\n\u001b[0;32m      8\u001b[0m         \u001b[0mfuture\u001b[0m\u001b[1;33m[\u001b[0m\u001b[0mmoves\u001b[0m\u001b[1;33m[\u001b[0m\u001b[0mi\u001b[0m\u001b[1;33m]\u001b[0m\u001b[1;33m[\u001b[0m\u001b[1;36m0\u001b[0m\u001b[1;33m]\u001b[0m\u001b[1;33m]\u001b[0m\u001b[1;33m[\u001b[0m\u001b[0mmoves\u001b[0m\u001b[1;33m[\u001b[0m\u001b[0mi\u001b[0m\u001b[1;33m]\u001b[0m\u001b[1;33m[\u001b[0m\u001b[1;36m1\u001b[0m\u001b[1;33m]\u001b[0m\u001b[1;33m]\u001b[0m \u001b[1;33m=\u001b[0m \u001b[0mplayer\u001b[0m\u001b[1;33m\u001b[0m\u001b[1;33m\u001b[0m\u001b[0m\n\u001b[1;32m----> 9\u001b[1;33m         \u001b[0mprediction\u001b[0m \u001b[1;33m=\u001b[0m \u001b[0mmodel\u001b[0m\u001b[1;33m.\u001b[0m\u001b[0mpredict\u001b[0m\u001b[1;33m(\u001b[0m\u001b[0mfuture\u001b[0m\u001b[1;33m.\u001b[0m\u001b[0mreshape\u001b[0m\u001b[1;33m(\u001b[0m\u001b[1;33m(\u001b[0m\u001b[1;33m-\u001b[0m\u001b[1;36m1\u001b[0m\u001b[1;33m,\u001b[0m \u001b[0m_dim\u001b[0m\u001b[1;33m*\u001b[0m\u001b[0m_dim\u001b[0m\u001b[1;33m)\u001b[0m\u001b[1;33m)\u001b[0m\u001b[1;33m)\u001b[0m\u001b[1;33m[\u001b[0m\u001b[1;36m0\u001b[0m\u001b[1;33m]\u001b[0m\u001b[1;33m\u001b[0m\u001b[1;33m\u001b[0m\u001b[0m\n\u001b[0m\u001b[0;32m     10\u001b[0m         \u001b[1;32mif\u001b[0m \u001b[0mplayer\u001b[0m \u001b[1;33m==\u001b[0m \u001b[1;36m1\u001b[0m\u001b[1;33m:\u001b[0m\u001b[1;33m\u001b[0m\u001b[1;33m\u001b[0m\u001b[0m\n\u001b[0;32m     11\u001b[0m             \u001b[0mwinPrediction\u001b[0m \u001b[1;33m=\u001b[0m \u001b[0mprediction\u001b[0m\u001b[1;33m[\u001b[0m\u001b[1;36m1\u001b[0m\u001b[1;33m]\u001b[0m\u001b[1;33m\u001b[0m\u001b[1;33m\u001b[0m\u001b[0m\n",
      "\u001b[1;32mD:\\Miniconda\\envs\\interface\\lib\\site-packages\\tensorflow\\python\\keras\\engine\\training.py\u001b[0m in \u001b[0;36mpredict\u001b[1;34m(self, x, batch_size, verbose, steps, callbacks, max_queue_size, workers, use_multiprocessing)\u001b[0m\n\u001b[0;32m   1627\u001b[0m           \u001b[1;32mfor\u001b[0m \u001b[0mstep\u001b[0m \u001b[1;32min\u001b[0m \u001b[0mdata_handler\u001b[0m\u001b[1;33m.\u001b[0m\u001b[0msteps\u001b[0m\u001b[1;33m(\u001b[0m\u001b[1;33m)\u001b[0m\u001b[1;33m:\u001b[0m\u001b[1;33m\u001b[0m\u001b[1;33m\u001b[0m\u001b[0m\n\u001b[0;32m   1628\u001b[0m             \u001b[0mcallbacks\u001b[0m\u001b[1;33m.\u001b[0m\u001b[0mon_predict_batch_begin\u001b[0m\u001b[1;33m(\u001b[0m\u001b[0mstep\u001b[0m\u001b[1;33m)\u001b[0m\u001b[1;33m\u001b[0m\u001b[1;33m\u001b[0m\u001b[0m\n\u001b[1;32m-> 1629\u001b[1;33m             \u001b[0mtmp_batch_outputs\u001b[0m \u001b[1;33m=\u001b[0m \u001b[0mself\u001b[0m\u001b[1;33m.\u001b[0m\u001b[0mpredict_function\u001b[0m\u001b[1;33m(\u001b[0m\u001b[0miterator\u001b[0m\u001b[1;33m)\u001b[0m\u001b[1;33m\u001b[0m\u001b[1;33m\u001b[0m\u001b[0m\n\u001b[0m\u001b[0;32m   1630\u001b[0m             \u001b[1;32mif\u001b[0m \u001b[0mdata_handler\u001b[0m\u001b[1;33m.\u001b[0m\u001b[0mshould_sync\u001b[0m\u001b[1;33m:\u001b[0m\u001b[1;33m\u001b[0m\u001b[1;33m\u001b[0m\u001b[0m\n\u001b[0;32m   1631\u001b[0m               \u001b[0mcontext\u001b[0m\u001b[1;33m.\u001b[0m\u001b[0masync_wait\u001b[0m\u001b[1;33m(\u001b[0m\u001b[1;33m)\u001b[0m\u001b[1;33m\u001b[0m\u001b[1;33m\u001b[0m\u001b[0m\n",
      "\u001b[1;32mD:\\Miniconda\\envs\\interface\\lib\\site-packages\\tensorflow\\python\\eager\\def_function.py\u001b[0m in \u001b[0;36m__call__\u001b[1;34m(self, *args, **kwds)\u001b[0m\n\u001b[0;32m    826\u001b[0m     \u001b[0mtracing_count\u001b[0m \u001b[1;33m=\u001b[0m \u001b[0mself\u001b[0m\u001b[1;33m.\u001b[0m\u001b[0mexperimental_get_tracing_count\u001b[0m\u001b[1;33m(\u001b[0m\u001b[1;33m)\u001b[0m\u001b[1;33m\u001b[0m\u001b[1;33m\u001b[0m\u001b[0m\n\u001b[0;32m    827\u001b[0m     \u001b[1;32mwith\u001b[0m \u001b[0mtrace\u001b[0m\u001b[1;33m.\u001b[0m\u001b[0mTrace\u001b[0m\u001b[1;33m(\u001b[0m\u001b[0mself\u001b[0m\u001b[1;33m.\u001b[0m\u001b[0m_name\u001b[0m\u001b[1;33m)\u001b[0m \u001b[1;32mas\u001b[0m \u001b[0mtm\u001b[0m\u001b[1;33m:\u001b[0m\u001b[1;33m\u001b[0m\u001b[1;33m\u001b[0m\u001b[0m\n\u001b[1;32m--> 828\u001b[1;33m       \u001b[0mresult\u001b[0m \u001b[1;33m=\u001b[0m \u001b[0mself\u001b[0m\u001b[1;33m.\u001b[0m\u001b[0m_call\u001b[0m\u001b[1;33m(\u001b[0m\u001b[1;33m*\u001b[0m\u001b[0margs\u001b[0m\u001b[1;33m,\u001b[0m \u001b[1;33m**\u001b[0m\u001b[0mkwds\u001b[0m\u001b[1;33m)\u001b[0m\u001b[1;33m\u001b[0m\u001b[1;33m\u001b[0m\u001b[0m\n\u001b[0m\u001b[0;32m    829\u001b[0m       \u001b[0mcompiler\u001b[0m \u001b[1;33m=\u001b[0m \u001b[1;34m\"xla\"\u001b[0m \u001b[1;32mif\u001b[0m \u001b[0mself\u001b[0m\u001b[1;33m.\u001b[0m\u001b[0m_experimental_compile\u001b[0m \u001b[1;32melse\u001b[0m \u001b[1;34m\"nonXla\"\u001b[0m\u001b[1;33m\u001b[0m\u001b[1;33m\u001b[0m\u001b[0m\n\u001b[0;32m    830\u001b[0m       \u001b[0mnew_tracing_count\u001b[0m \u001b[1;33m=\u001b[0m \u001b[0mself\u001b[0m\u001b[1;33m.\u001b[0m\u001b[0mexperimental_get_tracing_count\u001b[0m\u001b[1;33m(\u001b[0m\u001b[1;33m)\u001b[0m\u001b[1;33m\u001b[0m\u001b[1;33m\u001b[0m\u001b[0m\n",
      "\u001b[1;32mD:\\Miniconda\\envs\\interface\\lib\\site-packages\\tensorflow\\python\\eager\\def_function.py\u001b[0m in \u001b[0;36m_call\u001b[1;34m(self, *args, **kwds)\u001b[0m\n\u001b[0;32m    860\u001b[0m       \u001b[1;31m# In this case we have not created variables on the first call. So we can\u001b[0m\u001b[1;33m\u001b[0m\u001b[1;33m\u001b[0m\u001b[1;33m\u001b[0m\u001b[0m\n\u001b[0;32m    861\u001b[0m       \u001b[1;31m# run the first trace but we should fail if variables are created.\u001b[0m\u001b[1;33m\u001b[0m\u001b[1;33m\u001b[0m\u001b[1;33m\u001b[0m\u001b[0m\n\u001b[1;32m--> 862\u001b[1;33m       \u001b[0mresults\u001b[0m \u001b[1;33m=\u001b[0m \u001b[0mself\u001b[0m\u001b[1;33m.\u001b[0m\u001b[0m_stateful_fn\u001b[0m\u001b[1;33m(\u001b[0m\u001b[1;33m*\u001b[0m\u001b[0margs\u001b[0m\u001b[1;33m,\u001b[0m \u001b[1;33m**\u001b[0m\u001b[0mkwds\u001b[0m\u001b[1;33m)\u001b[0m\u001b[1;33m\u001b[0m\u001b[1;33m\u001b[0m\u001b[0m\n\u001b[0m\u001b[0;32m    863\u001b[0m       \u001b[1;32mif\u001b[0m \u001b[0mself\u001b[0m\u001b[1;33m.\u001b[0m\u001b[0m_created_variables\u001b[0m\u001b[1;33m:\u001b[0m\u001b[1;33m\u001b[0m\u001b[1;33m\u001b[0m\u001b[0m\n\u001b[0;32m    864\u001b[0m         raise ValueError(\"Creating variables on a non-first call to a function\"\n",
      "\u001b[1;32mD:\\Miniconda\\envs\\interface\\lib\\site-packages\\tensorflow\\python\\eager\\function.py\u001b[0m in \u001b[0;36m__call__\u001b[1;34m(self, *args, **kwargs)\u001b[0m\n\u001b[0;32m   2941\u001b[0m        filtered_flat_args) = self._maybe_define_function(args, kwargs)\n\u001b[0;32m   2942\u001b[0m     return graph_function._call_flat(\n\u001b[1;32m-> 2943\u001b[1;33m         filtered_flat_args, captured_inputs=graph_function.captured_inputs)  # pylint: disable=protected-access\n\u001b[0m\u001b[0;32m   2944\u001b[0m \u001b[1;33m\u001b[0m\u001b[0m\n\u001b[0;32m   2945\u001b[0m   \u001b[1;33m@\u001b[0m\u001b[0mproperty\u001b[0m\u001b[1;33m\u001b[0m\u001b[1;33m\u001b[0m\u001b[0m\n",
      "\u001b[1;32mD:\\Miniconda\\envs\\interface\\lib\\site-packages\\tensorflow\\python\\eager\\function.py\u001b[0m in \u001b[0;36m_call_flat\u001b[1;34m(self, args, captured_inputs, cancellation_manager)\u001b[0m\n\u001b[0;32m   1917\u001b[0m       \u001b[1;31m# No tape is watching; skip to running the function.\u001b[0m\u001b[1;33m\u001b[0m\u001b[1;33m\u001b[0m\u001b[1;33m\u001b[0m\u001b[0m\n\u001b[0;32m   1918\u001b[0m       return self._build_call_outputs(self._inference_function.call(\n\u001b[1;32m-> 1919\u001b[1;33m           ctx, args, cancellation_manager=cancellation_manager))\n\u001b[0m\u001b[0;32m   1920\u001b[0m     forward_backward = self._select_forward_and_backward_functions(\n\u001b[0;32m   1921\u001b[0m         \u001b[0margs\u001b[0m\u001b[1;33m,\u001b[0m\u001b[1;33m\u001b[0m\u001b[1;33m\u001b[0m\u001b[0m\n",
      "\u001b[1;32mD:\\Miniconda\\envs\\interface\\lib\\site-packages\\tensorflow\\python\\eager\\function.py\u001b[0m in \u001b[0;36mcall\u001b[1;34m(self, ctx, args, cancellation_manager)\u001b[0m\n\u001b[0;32m    558\u001b[0m               \u001b[0minputs\u001b[0m\u001b[1;33m=\u001b[0m\u001b[0margs\u001b[0m\u001b[1;33m,\u001b[0m\u001b[1;33m\u001b[0m\u001b[1;33m\u001b[0m\u001b[0m\n\u001b[0;32m    559\u001b[0m               \u001b[0mattrs\u001b[0m\u001b[1;33m=\u001b[0m\u001b[0mattrs\u001b[0m\u001b[1;33m,\u001b[0m\u001b[1;33m\u001b[0m\u001b[1;33m\u001b[0m\u001b[0m\n\u001b[1;32m--> 560\u001b[1;33m               ctx=ctx)\n\u001b[0m\u001b[0;32m    561\u001b[0m         \u001b[1;32melse\u001b[0m\u001b[1;33m:\u001b[0m\u001b[1;33m\u001b[0m\u001b[1;33m\u001b[0m\u001b[0m\n\u001b[0;32m    562\u001b[0m           outputs = execute.execute_with_cancellation(\n",
      "\u001b[1;32mD:\\Miniconda\\envs\\interface\\lib\\site-packages\\tensorflow\\python\\eager\\execute.py\u001b[0m in \u001b[0;36mquick_execute\u001b[1;34m(op_name, num_outputs, inputs, attrs, ctx, name)\u001b[0m\n\u001b[0;32m     58\u001b[0m     \u001b[0mctx\u001b[0m\u001b[1;33m.\u001b[0m\u001b[0mensure_initialized\u001b[0m\u001b[1;33m(\u001b[0m\u001b[1;33m)\u001b[0m\u001b[1;33m\u001b[0m\u001b[1;33m\u001b[0m\u001b[0m\n\u001b[0;32m     59\u001b[0m     tensors = pywrap_tfe.TFE_Py_Execute(ctx._handle, device_name, op_name,\n\u001b[1;32m---> 60\u001b[1;33m                                         inputs, attrs, num_outputs)\n\u001b[0m\u001b[0;32m     61\u001b[0m   \u001b[1;32mexcept\u001b[0m \u001b[0mcore\u001b[0m\u001b[1;33m.\u001b[0m\u001b[0m_NotOkStatusException\u001b[0m \u001b[1;32mas\u001b[0m \u001b[0me\u001b[0m\u001b[1;33m:\u001b[0m\u001b[1;33m\u001b[0m\u001b[1;33m\u001b[0m\u001b[0m\n\u001b[0;32m     62\u001b[0m     \u001b[1;32mif\u001b[0m \u001b[0mname\u001b[0m \u001b[1;32mis\u001b[0m \u001b[1;32mnot\u001b[0m \u001b[1;32mNone\u001b[0m\u001b[1;33m:\u001b[0m\u001b[1;33m\u001b[0m\u001b[1;33m\u001b[0m\u001b[0m\n",
      "\u001b[1;31mKeyboardInterrupt\u001b[0m: "
     ]
    }
   ],
   "source": [
    "from tqdm import tqdm\n",
    "games2 = [simulateGame(p1=model) for _ in tqdm(range(1000))]"
   ]
  },
  {
   "cell_type": "code",
   "execution_count": null,
   "id": "310732ea-a821-48f2-b2d3-2533062bf8e1",
   "metadata": {},
   "outputs": [],
   "source": [
    "gameStats(games2)"
   ]
  },
  {
   "cell_type": "code",
   "execution_count": null,
   "id": "c2efd778-3b5e-4dd7-8524-7a5568d42337",
   "metadata": {},
   "outputs": [],
   "source": [
    "import numpy as np\n",
    "##--> save\n",
    "np.array(games).dump(open('games2.npy', 'wb'))\n",
    "##--> load\n",
    "# myArray = np.load(\"games.npy\",allow_pickle=True)\n",
    "# myArray = myArray.tolist()"
   ]
  },
  {
   "cell_type": "markdown",
   "id": "320a75ca-635e-4211-93ef-91015d56cf14",
   "metadata": {},
   "source": [
    "## AI VS Human"
   ]
  },
  {
   "cell_type": "code",
   "execution_count": 262,
   "id": "c52016f9-88bf-4189-b891-d4b545e118e3",
   "metadata": {},
   "outputs": [
    {
     "name": "stdout",
     "output_type": "stream",
     "text": [
      "0|0|0|0|0|0|0|0|0|0\n",
      "-----\n",
      "0|0|0|0|0|0|0|0|0|0\n",
      "-----\n",
      "0|0|0|0|0|0|0|0|0|0\n",
      "-----\n",
      "0|0|0|0|0|0|0|0|0|0\n",
      "-----\n",
      "0|0|0|0|0|0|0|0|0|0\n",
      "-----\n",
      "0|0|0|0|0|🤖|0|0|0|0\n",
      "-----\n",
      "0|0|0|0|0|0|0|0|0|0\n",
      "-----\n",
      "0|0|0|0|0|0|0|0|0|0\n",
      "-----\n",
      "0|0|0|0|0|0|0|0|0|0\n",
      "-----\n",
      "0|0|0|0|0|0|0|0|0|0\n",
      "-1\n"
     ]
    }
   ],
   "source": [
    "board = initBoard()\n",
    "board[5][5] = 2\n",
    "printBoard(board)\n",
    "print(checkWin(board))\n",
    "# move = bestMove(board, model, 1)\n",
    "# board[move[0]][move[1]] = 1\n",
    "# printBoard(board)"
   ]
  },
  {
   "cell_type": "code",
   "execution_count": null,
   "id": "d9d600a9-8a50-4f5c-b9e3-14671b78467c",
   "metadata": {},
   "outputs": [],
   "source": []
  },
  {
   "cell_type": "code",
   "execution_count": 263,
   "id": "9b952eb3-8c08-4fd0-9bfe-e81e8fdb2e4a",
   "metadata": {},
   "outputs": [
    {
     "name": "stdout",
     "output_type": "stream",
     "text": [
      "0|0|0|0|0|0|0|0|0|0\n",
      "-----\n",
      "0|0|0|0|0|0|0|0|0|0\n",
      "-----\n",
      "0|0|0|0|0|0|0|0|0|0\n",
      "-----\n",
      "0|0|0|0|0|0|0|0|0|0\n",
      "-----\n",
      "0|0|0|0|0|0|0|0|0|0\n",
      "-----\n",
      "0|0|0|0|0|🤖|0|0|0|0\n",
      "-----\n",
      "0|0|0|0|0|0|0|0|0|0\n",
      "-----\n",
      "0|0|0|0|0|0|0|0|0|0\n",
      "-----\n",
      "0|0|0|0|0|0|0|0|0|0\n",
      "-----\n",
      "0|0|0|0|0|0|😀|0|0|0\n"
     ]
    }
   ],
   "source": [
    "# board = initBoard()\n",
    "move = bestMove(board, model, 1)\n",
    "board[move[0]][move[1]] = 1\n",
    "printBoard(board)\n",
    "print(checkWin(board))"
   ]
  },
  {
   "cell_type": "code",
   "execution_count": 264,
   "id": "13fb3264-66fd-44c9-ac35-aef0302db4f6",
   "metadata": {},
   "outputs": [
    {
     "name": "stdout",
     "output_type": "stream",
     "text": [
      "0|0|0|0|0|0|0|0|0|0\n",
      "-----\n",
      "0|0|0|0|0|0|0|0|0|0\n",
      "-----\n",
      "0|0|0|0|0|0|0|0|0|0\n",
      "-----\n",
      "0|0|0|0|0|0|0|0|0|0\n",
      "-----\n",
      "0|0|0|0|0|0|0|0|0|0\n",
      "-----\n",
      "0|0|0|0|0|🤖|🤖|0|0|0\n",
      "-----\n",
      "0|0|0|0|0|0|0|0|0|0\n",
      "-----\n",
      "0|0|0|0|0|0|0|0|0|0\n",
      "-----\n",
      "0|0|0|0|0|0|0|0|0|0\n",
      "-----\n",
      "0|0|0|0|0|0|😀|0|0|0\n",
      "-1\n"
     ]
    }
   ],
   "source": [
    "## HUMAN\n",
    "board[5][6] = 2\n",
    "printBoard(board)\n",
    "print(checkWin(board))"
   ]
  },
  {
   "cell_type": "code",
   "execution_count": 265,
   "id": "6ba4e041-03e6-48a0-b077-65cba81a72e2",
   "metadata": {},
   "outputs": [
    {
     "name": "stdout",
     "output_type": "stream",
     "text": [
      "0|0|0|0|0|0|0|0|0|0\n",
      "-----\n",
      "0|0|0|0|0|0|0|0|0|0\n",
      "-----\n",
      "0|0|0|0|0|0|0|0|0|0\n",
      "-----\n",
      "0|0|0|0|0|0|0|😀|0|0\n",
      "-----\n",
      "0|0|0|0|0|0|0|0|0|0\n",
      "-----\n",
      "0|0|0|0|0|🤖|🤖|0|0|0\n",
      "-----\n",
      "0|0|0|0|0|0|0|0|0|0\n",
      "-----\n",
      "0|0|0|0|0|0|0|0|0|0\n",
      "-----\n",
      "0|0|0|0|0|0|0|0|0|0\n",
      "-----\n",
      "0|0|0|0|0|0|😀|0|0|0\n",
      "-1\n"
     ]
    }
   ],
   "source": [
    "# board = initBoard()\n",
    "move = bestMove(board, model, 1)\n",
    "board[move[0]][move[1]] = 1\n",
    "printBoard(board)\n",
    "print(checkWin(board))"
   ]
  },
  {
   "cell_type": "code",
   "execution_count": 251,
   "id": "dce5f14f-a329-463e-ad6d-a019e917b9bf",
   "metadata": {},
   "outputs": [
    {
     "name": "stdout",
     "output_type": "stream",
     "text": [
      "😀|0|0|0|0|0|0|😀|0|0\n",
      "-----\n",
      "0|🤖|0|0|0|0|0|0|0|0\n",
      "-----\n",
      "0|🤖|0|0|0|0|0|0|0|0\n",
      "-----\n",
      "0|🤖|0|0|0|0|0|0|0|0\n",
      "-----\n",
      "0|0|0|0|0|0|0|0|0|0\n",
      "-----\n",
      "0|0|0|0|0|0|0|0|0|0\n",
      "-----\n",
      "0|0|0|0|0|0|0|0|0|0\n",
      "-----\n",
      "0|0|0|0|0|0|0|0|0|0\n",
      "-----\n",
      "0|😀|0|0|0|0|0|0|0|0\n",
      "-----\n",
      "0|0|0|0|0|0|0|0|0|0\n"
     ]
    }
   ],
   "source": [
    "board[3][1] = 2\n",
    "printBoard(board)"
   ]
  },
  {
   "cell_type": "code",
   "execution_count": 252,
   "id": "5bce4c0a-2fee-407c-aa3b-f89e83c535f5",
   "metadata": {},
   "outputs": [
    {
     "name": "stdout",
     "output_type": "stream",
     "text": [
      "😀|0|0|0|0|0|0|😀|0|0\n",
      "-----\n",
      "0|🤖|0|0|0|0|0|0|0|0\n",
      "-----\n",
      "0|🤖|0|0|0|0|0|0|0|0\n",
      "-----\n",
      "0|🤖|0|0|0|0|0|0|0|0\n",
      "-----\n",
      "0|0|0|0|0|0|0|0|0|0\n",
      "-----\n",
      "0|0|0|0|0|0|0|0|0|0\n",
      "-----\n",
      "0|0|0|0|0|0|0|0|0|0\n",
      "-----\n",
      "0|0|0|0|0|0|0|0|0|0\n",
      "-----\n",
      "0|😀|0|0|0|0|0|0|0|0\n",
      "-----\n",
      "0|0|0|0|0|0|0|0|0|😀\n"
     ]
    }
   ],
   "source": [
    "# board = initBoard()\n",
    "move = bestMove(board, model, 1)\n",
    "board[move[0]][move[1]] = 1\n",
    "printBoard(board)"
   ]
  },
  {
   "cell_type": "code",
   "execution_count": 253,
   "id": "bb1c50e2-07ec-4039-9ff0-aaa8d76bf3b8",
   "metadata": {},
   "outputs": [
    {
     "name": "stdout",
     "output_type": "stream",
     "text": [
      "😀|0|0|0|0|0|0|😀|0|0\n",
      "-----\n",
      "0|🤖|0|0|0|0|0|0|0|0\n",
      "-----\n",
      "0|🤖|0|0|0|0|0|0|0|0\n",
      "-----\n",
      "0|🤖|0|0|0|0|0|0|0|0\n",
      "-----\n",
      "0|🤖|0|0|0|0|0|0|0|0\n",
      "-----\n",
      "0|0|0|0|0|0|0|0|0|0\n",
      "-----\n",
      "0|0|0|0|0|0|0|0|0|0\n",
      "-----\n",
      "0|0|0|0|0|0|0|0|0|0\n",
      "-----\n",
      "0|😀|0|0|0|0|0|0|0|0\n",
      "-----\n",
      "0|0|0|0|0|0|0|0|0|😀\n"
     ]
    }
   ],
   "source": [
    "board[4][1] = 2\n",
    "printBoard(board)"
   ]
  },
  {
   "cell_type": "code",
   "execution_count": 254,
   "id": "7e919ca6-0383-4ac1-b2ab-fa1e3f9189c6",
   "metadata": {},
   "outputs": [
    {
     "name": "stdout",
     "output_type": "stream",
     "text": [
      "😀|0|0|0|0|0|0|😀|0|0\n",
      "-----\n",
      "0|🤖|0|0|0|0|0|0|0|0\n",
      "-----\n",
      "0|🤖|0|0|0|0|0|0|0|0\n",
      "-----\n",
      "0|🤖|0|0|0|0|0|0|0|0\n",
      "-----\n",
      "0|🤖|0|0|0|0|0|0|0|0\n",
      "-----\n",
      "0|0|0|0|0|0|0|0|0|0\n",
      "-----\n",
      "0|0|0|0|0|0|0|0|0|0\n",
      "-----\n",
      "0|0|0|0|0|0|0|0|0|0\n",
      "-----\n",
      "0|😀|0|0|0|0|0|0|0|0\n",
      "-----\n",
      "0|0|0|0|0|0|0|0|😀|😀\n"
     ]
    }
   ],
   "source": [
    "# board = initBoard()\n",
    "move = bestMove(board, model, 1)\n",
    "board[move[0]][move[1]] = 1\n",
    "printBoard(board)"
   ]
  },
  {
   "cell_type": "code",
   "execution_count": 255,
   "id": "1d8118ba-cc66-4292-b268-c2dbbe69f09d",
   "metadata": {},
   "outputs": [
    {
     "name": "stdout",
     "output_type": "stream",
     "text": [
      "😀|0|0|0|0|0|0|😀|0|0\n",
      "-----\n",
      "0|🤖|0|0|0|0|0|0|0|0\n",
      "-----\n",
      "0|🤖|0|0|0|0|0|0|0|0\n",
      "-----\n",
      "0|🤖|0|0|0|0|0|0|0|0\n",
      "-----\n",
      "0|🤖|🤖|0|0|0|0|0|0|0\n",
      "-----\n",
      "0|0|0|0|0|0|0|0|0|0\n",
      "-----\n",
      "0|0|0|0|0|0|0|0|0|0\n",
      "-----\n",
      "0|0|0|0|0|0|0|0|0|0\n",
      "-----\n",
      "0|😀|0|0|0|0|0|0|0|0\n",
      "-----\n",
      "0|0|0|0|0|0|0|0|😀|😀\n"
     ]
    }
   ],
   "source": [
    "board[4][2] = 2\n",
    "printBoard(board)"
   ]
  },
  {
   "cell_type": "code",
   "execution_count": 256,
   "id": "6900ae64-e1f6-4398-b17c-35049b98f2cb",
   "metadata": {},
   "outputs": [
    {
     "name": "stdout",
     "output_type": "stream",
     "text": [
      "😀|0|0|0|0|0|0|😀|0|0\n",
      "-----\n",
      "0|🤖|0|0|0|0|0|0|0|0\n",
      "-----\n",
      "0|🤖|0|0|0|0|0|0|0|0\n",
      "-----\n",
      "0|🤖|0|0|0|0|0|0|0|0\n",
      "-----\n",
      "0|🤖|🤖|0|0|0|0|0|0|0\n",
      "-----\n",
      "0|0|0|0|0|0|0|0|0|0\n",
      "-----\n",
      "0|0|0|0|0|0|0|0|0|0\n",
      "-----\n",
      "0|0|0|0|0|0|0|0|0|0\n",
      "-----\n",
      "0|😀|0|0|0|0|0|0|0|0\n",
      "-----\n",
      "0|0|0|0|0|0|0|😀|😀|😀\n"
     ]
    }
   ],
   "source": [
    "# board = initBoard()\n",
    "move = bestMove(board, model, 1)\n",
    "board[move[0]][move[1]] = 1\n",
    "printBoard(board)"
   ]
  },
  {
   "cell_type": "code",
   "execution_count": 257,
   "id": "76983513-6ff3-4e3c-ad26-58449993a4a2",
   "metadata": {},
   "outputs": [
    {
     "name": "stdout",
     "output_type": "stream",
     "text": [
      "😀|0|0|0|0|0|0|😀|0|0\n",
      "-----\n",
      "0|🤖|0|0|0|0|0|0|0|0\n",
      "-----\n",
      "0|🤖|0|0|0|0|0|0|0|0\n",
      "-----\n",
      "0|🤖|0|0|0|0|0|0|0|0\n",
      "-----\n",
      "0|🤖|🤖|🤖|0|0|0|0|0|0\n",
      "-----\n",
      "0|0|0|0|0|0|0|0|0|0\n",
      "-----\n",
      "0|0|0|0|0|0|0|0|0|0\n",
      "-----\n",
      "0|0|0|0|0|0|0|0|0|0\n",
      "-----\n",
      "0|😀|0|0|0|0|0|0|0|0\n",
      "-----\n",
      "0|0|0|0|0|0|0|😀|😀|😀\n"
     ]
    }
   ],
   "source": [
    "board[4][3] = 2\n",
    "printBoard(board)"
   ]
  },
  {
   "cell_type": "code",
   "execution_count": 258,
   "id": "b956018c-5fe9-4d71-8a63-d65b67f0e555",
   "metadata": {},
   "outputs": [
    {
     "name": "stdout",
     "output_type": "stream",
     "text": [
      "😀|0|0|0|0|0|0|😀|0|0\n",
      "-----\n",
      "0|🤖|0|0|0|0|0|0|0|0\n",
      "-----\n",
      "0|🤖|0|0|0|0|0|0|0|0\n",
      "-----\n",
      "0|🤖|0|0|0|0|0|0|0|0\n",
      "-----\n",
      "0|🤖|🤖|🤖|0|0|0|0|0|0\n",
      "-----\n",
      "0|0|0|0|0|0|0|0|0|0\n",
      "-----\n",
      "0|0|0|0|0|0|0|0|0|0\n",
      "-----\n",
      "0|0|0|0|0|0|0|0|0|0\n",
      "-----\n",
      "0|😀|0|0|0|0|0|0|0|0\n",
      "-----\n",
      "0|0|0|0|0|0|😀|😀|😀|😀\n"
     ]
    }
   ],
   "source": [
    "# board = initBoard()\n",
    "move = bestMove(board, model, 1)\n",
    "board[move[0]][move[1]] = 1\n",
    "printBoard(board)"
   ]
  },
  {
   "cell_type": "code",
   "execution_count": 259,
   "id": "5587c7b6-342a-4703-9f01-7b87082f65d7",
   "metadata": {},
   "outputs": [
    {
     "name": "stdout",
     "output_type": "stream",
     "text": [
      "😀|0|0|0|0|0|0|😀|0|0\n",
      "-----\n",
      "0|🤖|0|0|0|0|0|0|0|0\n",
      "-----\n",
      "0|🤖|0|0|0|0|0|0|0|0\n",
      "-----\n",
      "0|🤖|0|0|0|0|0|0|0|0\n",
      "-----\n",
      "0|🤖|🤖|🤖|0|0|0|0|0|0\n",
      "-----\n",
      "0|0|0|0|0|0|0|0|0|0\n",
      "-----\n",
      "0|0|0|0|0|0|0|0|0|0\n",
      "-----\n",
      "0|0|0|0|0|0|0|0|0|0\n",
      "-----\n",
      "0|😀|0|0|0|0|0|0|0|0\n",
      "-----\n",
      "0|0|0|0|0|😀|😀|😀|😀|😀\n"
     ]
    }
   ],
   "source": [
    "# board = initBoard()\n",
    "move = bestMove(board, model, 1)\n",
    "board[move[0]][move[1]] = 1\n",
    "printBoard(board)"
   ]
  },
  {
   "cell_type": "code",
   "execution_count": 260,
   "id": "21a49322-26ec-4952-a563-a46b7b149ab3",
   "metadata": {},
   "outputs": [
    {
     "name": "stdout",
     "output_type": "stream",
     "text": [
      "1\n"
     ]
    }
   ],
   "source": [
    "print(checkWin(board))"
   ]
  },
  {
   "cell_type": "code",
   "execution_count": null,
   "id": "9b875bd3-c451-4033-926c-15f7ecc21b81",
   "metadata": {},
   "outputs": [],
   "source": []
  }
 ],
 "metadata": {
  "kernelspec": {
   "display_name": "Python 3 (ipykernel)",
   "language": "python",
   "name": "python3"
  },
  "language_info": {
   "codemirror_mode": {
    "name": "ipython",
    "version": 3
   },
   "file_extension": ".py",
   "mimetype": "text/x-python",
   "name": "python",
   "nbconvert_exporter": "python",
   "pygments_lexer": "ipython3",
   "version": "3.7.11"
  }
 },
 "nbformat": 4,
 "nbformat_minor": 5
}
